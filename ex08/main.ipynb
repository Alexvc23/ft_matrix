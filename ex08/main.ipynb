{
 "cells": [
  {
   "cell_type": "markdown",
   "metadata": {},
   "source": [
    "# Exercise 08: Matrix Trace Computation\n",
    "\n",
    "This exercise focuses on the **trace** of a square matrix. For a matrix $A \\in \\mathbb{R}^{n \\times n}$, the trace is the sum of its diagonal elements, formally defined as:\n",
    "\n",
    "- $\\mathbb{R}$ - The blackboard bold R symbol representing the set of real numbers\n",
    "- $^{n \\times n}$ - A superscript indicating the dimensions of the matrix:\n",
    "- $A$ represents the matrix\n",
    "- $\\in$ - The symbol indicating \"is an element of\" or \"belongs to\"\n",
    "\n",
    "Together, this expression states: \"For a matrix $A$ that is an element of the set of all $n$-by-$n$ real-valued matrices\" or more simply, \"$A$ is a square matrix of size $n$ with real number entries.\"\n",
    "\n",
    "$$\\mathrm{Tr}(A) = \\sum_{i=1}^n A_{ii}$$\n",
    "\n",
    "The following cells will demonstrate the computation of the trace using the provided `Matrix` class and illustrate it with examples of matrices with positive, negative, and identity matrices."
   ]
  },
  {
   "cell_type": "code",
   "execution_count": 4,
   "metadata": {},
   "outputs": [
    {
     "name": "stdout",
     "output_type": "stream",
     "text": [
      "cwd = /home/cliuser/downloads/42Projects/ft_matrix\n"
     ]
    }
   ],
   "source": [
    "\n",
    "import os\n",
    "print(\"cwd =\", os.getcwd())"
   ]
  },
  {
   "cell_type": "code",
   "execution_count": 5,
   "metadata": {},
   "outputs": [
    {
     "name": "stdout",
     "output_type": "stream",
     "text": [
      "cwd = /home/cliuser/downloads/42Projects/ft_matrix\n"
     ]
    }
   ],
   "source": [
    "\n",
    "os.chdir(\"/home/cliuser/downloads/42Projects/ft_matrix\")  \n",
    "print(\"cwd =\", os.getcwd())"
   ]
  },
  {
   "cell_type": "code",
   "execution_count": 6,
   "metadata": {},
   "outputs": [],
   "source": [
    "\n",
    "from matrix.matrix import Matrix"
   ]
  },
  {
   "cell_type": "code",
   "execution_count": 7,
   "metadata": {},
   "outputs": [
    {
     "name": "stdout",
     "output_type": "stream",
     "text": [
      "Matrix:\n",
      "[1.0, 0.0]\n",
      "[0.0, 1.0]\n",
      "Trace: 2.0 # Expected 2.0\n"
     ]
    }
   ],
   "source": [
    "# Example 1: 2×2 identity matrix\n",
    "m1 = Matrix.from_list([\n",
    "\n",
    "    [1.0, 0.0],\n",
    "    [0.0, 1.0]\n",
    "])\n",
    "print(\"Matrix:\")\n",
    "print(m1)\n",
    "print(\"Trace:\", m1.trace(), \"# Expected 2.0\")\n"
   ]
  },
  {
   "cell_type": "code",
   "execution_count": 8,
   "metadata": {},
   "outputs": [
    {
     "name": "stdout",
     "output_type": "stream",
     "text": [
      "\n",
      "Matrix:\n",
      "[2.0, -5.0, 0.0]\n",
      "[4.0, 3.0, 7.0]\n",
      "[-2.0, 3.0, 4.0]\n",
      "Trace: 9.0 # Expected 9.0\n"
     ]
    }
   ],
   "source": [
    "\n",
    "# Example 2: 3×3 with positive trace\n",
    "m2 = Matrix.from_list([\n",
    "    [2.0, -5.0,  0.0],\n",
    "    [4.0,  3.0,  7.0],\n",
    "    [-2.0, 3.0,  4.0]\n",
    "])\n",
    "print(\"\\nMatrix:\")\n",
    "print(m2)\n",
    "print(\"Trace:\", m2.trace(), \"# Expected 9.0\")\n"
   ]
  },
  {
   "cell_type": "code",
   "execution_count": 9,
   "metadata": {},
   "outputs": [
    {
     "name": "stdout",
     "output_type": "stream",
     "text": [
      "\n",
      "Matrix:\n",
      "[-2.0, -8.0, 4.0]\n",
      "[1.0, -23.0, 4.0]\n",
      "[0.0, 6.0, 4.0]\n",
      "Trace: -21.0 # Expected -21.0\n"
     ]
    }
   ],
   "source": [
    "\n",
    "# Example 3: 3×3 with negative trace\n",
    "m3 = Matrix.from_list([\n",
    "    [-2.0, -8.0, 4.0],\n",
    "    [ 1.0,-23.0, 4.0],\n",
    "    [ 0.0,  6.0, 4.0]\n",
    "])\n",
    "print(\"\\nMatrix:\")\n",
    "print(m3)\n",
    "print(\"Trace:\", m3.trace(), \"# Expected -21.0\")"
   ]
  },
  {
   "cell_type": "markdown",
   "metadata": {},
   "source": [
    "### Explanation\n",
    "\n",
    "- **Example 1**: The identity matrix has diagonal entries $1,1$, so $\\mathrm{Tr}=2$.\n",
    "- **Example 2**: Diagonal entries are $2,3,4$, so $\\mathrm{Tr}=2+3+4=9$.\n",
    "- **Example 3**: Diagonal entries are $-2,-23,4$, so $\\mathrm{Tr}=-2-23+4=-21$.\n",
    "\n",
    "The trace is invariant under similarity transforms and plays a key role in many areas\n",
    "of linear algebra, including characteristic polynomials and matrix decompositions."
   ]
  }
 ],
 "metadata": {
  "kernelspec": {
   "display_name": "Python 3 (ipykernel)",
   "language": "python",
   "name": "python3"
  }
 },
 "nbformat": 4,
 "nbformat_minor": 2
}
