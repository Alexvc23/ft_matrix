{
 "cells": [
  {
   "cell_type": "markdown",
   "metadata": {},
   "source": [
    "# Exercise 05 – Cosine of the Angle Between Vectors\n",
    "\n",
    "In this exercise we compute the cosine of the angle $\\theta$ between two vectors $u$ and $v$ using the formula:\n",
    "\n",
    "$$\\cos(\\theta) = \\frac{u \\cdot v}{||u|| \\cdot ||v||}$$\n",
    "\n",
    "This function uses the dot product and the Euclidean norm of the vectors. Note that the behavior is undefined if one or both vectors are zero, or if the vectors have mismatched dimensions."
   ]
  },
  {
   "cell_type": "code",
   "execution_count": 1,
   "metadata": {},
   "outputs": [
    {
     "name": "stdout",
     "output_type": "stream",
     "text": [
      "Example 1: cosine: 1.0\n",
      "Example 2: cosine: 0.0\n",
      "Example 3: cosine: -0.9999999999999998\n",
      "Example 4: cosine: 0.9999999999999998\n",
      "Example 5: cosine: 0.9746318461970762\n"
     ]
    }
   ],
   "source": [
    "\n",
    "\n",
    "import sys\n",
    "# This is the path to the directory where your modules are located in the container\n",
    "# in this case, it is the directory where the vector.py and matrix.py files are located\n",
    "# the kernel used here is the one used in the container which is a jupyter kernel\n",
    "sys.path.append('/home/cliuser/downloads/ft_matrix/ex05')\n",
    "\n",
    "from vector import Vector\n",
    "\n",
    "# Example 1: Two identical vectors\n",
    "u = Vector.from_list([1.0, 0.0])\n",
    "v = Vector.from_list([1.0, 0.0])\n",
    "print(\"Example 1:\", \"cosine:\", Vector.angle_cos(u, v))  # Expected: 1.0\n",
    "\n",
    "# Example 2: Orthogonal vectors\n",
    "u = Vector.from_list([1.0, 0.0])\n",
    "v = Vector.from_list([0.0, 1.0])\n",
    "print(\"Example 2:\", \"cosine:\", Vector.angle_cos(u, v))  # Expected: 0.0\n",
    "\n",
    "# Example 3: Opposing directions\n",
    "u = Vector.from_list([-1.0, 1.0])\n",
    "v = Vector.from_list([1.0, -1.0])\n",
    "print(\"Example 3:\", \"cosine:\", Vector.angle_cos(u, v))  # Expected: -1.0\n",
    "\n",
    "# Example 4: Collinear vectors\n",
    "u = Vector.from_list([2.0, 1.0])\n",
    "v = Vector.from_list([4.0, 2.0])\n",
    "print(\"Example 4:\", \"cosine:\", Vector.angle_cos(u, v))  # Expected: 1.0\n",
    "\n",
    "# Example 5: General 3D vectors\n",
    "u = Vector.from_list([1.0, 2.0, 3.0])\n",
    "v = Vector.from_list([4.0, 5.0, 6.0])\n",
    "print(\"Example 5:\", \"cosine:\", Vector.angle_cos(u, v))  # Expected: ~0.974631846"
   ]
  },
  {
   "cell_type": "markdown",
   "metadata": {},
   "source": [
    "# Exercise 05 – Cosine of the Angle Between Vectors\n",
    "\n",
    "In this exercise we compute the cosine of the angle $\\theta$ between two vectors $u$ and $v$ using the formula:\n",
    "\n",
    "$$\\cos(\\theta) = \\frac{u \\cdot v}{||u|| \\cdot ||v||}$$\n",
    "\n",
    "This function uses the dot product and the Euclidean norm of the vectors. Note that the behavior is undefined if one or both vectors are zero, or if the vectors have mismatched dimensions.\n",
    "\n",
    "### Explanation\n",
    "\n",
    "- **Example 1:** Identical vectors yield $\\cos(0°) = 1$\n",
    "    - When vectors point in the same direction, their angle is 0°\n",
    "    \n",
    "- **Example 2:** Perpendicular vectors yield $\\cos(90°) = 0$\n",
    "    - Orthogonal vectors have no directional correlation\n",
    "    \n",
    "- **Example 3:** Vectors with opposite directions yield $\\cos(180°) = -1$\n",
    "    - Complete directional opposition\n",
    "    \n",
    "- **Example 4:** Collinear vectors (different magnitudes) have $\\cos(0°) = 1$\n",
    "    - Direction matters, not magnitude\n",
    "    \n",
    "- **Example 5:** For 3D vectors [1,2,3] and [4,5,6], $\\cos(\\theta) \\approx 0.9746$\n",
    "    - These vectors are strongly aligned\n",
    "\n",
    "The cosine similarity provides a measure of directional alignment regardless of vector magnitude."
   ]
  }
 ],
 "metadata": {
  "kernelspec": {
   "display_name": "Python 3 (ipykernel)",
   "language": "python",
   "name": "python3"
  },
  "language_info": {
   "codemirror_mode": {
    "name": "ipython",
    "version": 3
   },
   "file_extension": ".py",
   "mimetype": "text/x-python",
   "name": "python",
   "nbconvert_exporter": "python",
   "pygments_lexer": "ipython3",
   "version": "3.10.12"
  }
 },
 "nbformat": 4,
 "nbformat_minor": 2
}
