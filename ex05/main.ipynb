{
 "cells": [
  {
   "cell_type": "markdown",
   "metadata": {},
   "source": [
    "# Exercise 05 – Cosine of the Angle Between Vectors\n",
    "\n",
    "In this exercise we compute the cosine of the angle $\\theta$ between two vectors $u$ and $v$ using the formula:\n",
    "\n",
    "$$\\cos(\\theta) = \\frac{u \\cdot v}{||u|| \\cdot ||v||}$$\n",
    "\n",
    "This function uses the dot product and the Euclidean norm of the vectors. Note that the behavior is undefined if one or both vectors are zero, or if the vectors have mismatched dimensions."
   ]
  },
  {
   "cell_type": "markdown",
   "metadata": {},
   "source": [
    "#### Imports\n",
    "\n",
    "The code below adds the path to the directory where our modules are located in the container (I am sharing a volume with the host). This is necessary to import the `Vector` and `Matrix` classes from their respective modules. The Python kernel used in this notebook is the one configured within the container."
   ]
  },
  {
   "cell_type": "code",
   "execution_count": 9,
   "metadata": {},
   "outputs": [
    {
     "name": "stdout",
     "output_type": "stream",
     "text": [
      "cwd = /home/cliuser/downloads/42/projects/ft_matrix\n"
     ]
    }
   ],
   "source": [
    "# os module that is used to get the current working directory\n",
    "import os\n",
    "print(\"cwd =\", os.getcwd())"
   ]
  },
  {
   "cell_type": "code",
   "execution_count": 10,
   "metadata": {},
   "outputs": [
    {
     "name": "stdout",
     "output_type": "stream",
     "text": [
      "cwd = /home/cliuser/downloads/42/projects/ft_matrix\n"
     ]
    }
   ],
   "source": [
    "\n",
    "# os.chdir () # change the current working directory to the specified path\n",
    "os.chdir(\"/home/cliuser/downloads/42/projects/ft_matrix\")  \n",
    "print(\"cwd =\", os.getcwd())"
   ]
  },
  {
   "cell_type": "code",
   "execution_count": 11,
   "metadata": {},
   "outputs": [],
   "source": [
    "from vector.vector import Vector"
   ]
  },
  {
   "cell_type": "markdown",
   "metadata": {},
   "source": [
    "### Example 1\n",
    "\n",
    "- **Example 1:** Identical vectors yield $\\cos(0°) = 1$\n",
    "    - When vectors point in the same direction, their angle is 0°\n",
    "\n",
    "#### Visual Representation\n",
    "\n",
    "<details>\n",
    "    <summary><b>Click to view Cosine Similarity Visualization</b></summary>\n",
    "    <img src=\"../assets/cosine_similarity_identical.png\" alt=\"Cosine Similarity\" width=\"60%\" height=\"60%\" />\n",
    "    <p><i>Cosine similarity measures the angle θ between two vectors. Vectors pointing in similar directions have a cosine similarity close to 1. Orthogonal vectors have a similarity of 0. Vectors pointing in opposite directions have a similarity close to -1.</i></p>\n",
    "</details>"
   ]
  },
  {
   "cell_type": "code",
   "execution_count": 12,
   "metadata": {},
   "outputs": [
    {
     "name": "stdout",
     "output_type": "stream",
     "text": [
      "Example 1: cosine: 1.0\n"
     ]
    }
   ],
   "source": [
    "# Example 1: Two identical vectors\n",
    "u = Vector.from_list([1.0, 0.0])\n",
    "v = Vector.from_list([1.0, 0.0])\n",
    "print(\"Example 1:\", \"cosine:\", Vector.angle_cos(u, v))  # Expected: 1.0"
   ]
  },
  {
   "cell_type": "markdown",
   "metadata": {},
   "source": [
    "### Example 2\n",
    "\n",
    "- **Example 2:** Perpendicular vectors yield $\\cos(90°) = 0$\n",
    "    - Orthogonal vectors have no directional correlation\n",
    "\n",
    "\n",
    "#### Visual Representation\n",
    "\n",
    "<details>\n",
    "    <summary><b>Click to view Cosine Similarity Visualization</b></summary>\n",
    "    <img src=\"../assets/cosine_similarity_perpendicular.png\" alt=\"Cosine Similarity\" width=\"60%\" height=\"60%\" />\n",
    "    <p><i>Cosine similarity measures the angle θ between two vectors. Vectors pointing in similar directions have a cosine similarity close to 1. Orthogonal vectors have a similarity of 0. Vectors pointing in opposite directions have a similarity close to -1.</i></p>\n",
    "</details>"
   ]
  },
  {
   "cell_type": "code",
   "execution_count": 13,
   "metadata": {},
   "outputs": [
    {
     "name": "stdout",
     "output_type": "stream",
     "text": [
      "Example 2: cosine: 0.0\n"
     ]
    }
   ],
   "source": [
    "# Example 2: Orthogonal vectors\n",
    "u = Vector.from_list([1.0, 0.0])\n",
    "v = Vector.from_list([0.0, 1.0])\n",
    "print(\"Example 2:\", \"cosine:\", Vector.angle_cos(u, v))  # Expected: 0.0"
   ]
  },
  {
   "cell_type": "markdown",
   "metadata": {},
   "source": [
    "### Example 3\n",
    "\n",
    "- **Example 3:** Vectors with opposite directions yield $\\cos(180°) = -1$\n",
    "    - Complete directional opposition\n",
    "\n",
    "#### Visual Representation\n",
    "\n",
    "<details>\n",
    "    <summary><b>Click to view Cosine Similarity Visualization</b></summary>\n",
    "    <img src=\"../assets/cosine_similarity_oposite.png\" alt=\"Cosine Similarity\" width=\"60%\" height=\"60%\" />\n",
    "    <p><i>Cosine similarity measures the angle θ between two vectors. Vectors pointing in similar directions have a cosine similarity close to 1. Orthogonal vectors have a similarity of 0. Vectors pointing in opposite directions have a similarity close to -1.</i></p>\n",
    "</details>"
   ]
  },
  {
   "cell_type": "code",
   "execution_count": 14,
   "metadata": {},
   "outputs": [
    {
     "name": "stdout",
     "output_type": "stream",
     "text": [
      "Example 3: cosine: -0.9999999999999998\n"
     ]
    }
   ],
   "source": [
    "# Example 3: Opposing directions\n",
    "u = Vector.from_list([-1.0, 1.0])\n",
    "v = Vector.from_list([1.0, -1.0])\n",
    "print(\"Example 3:\", \"cosine:\", Vector.angle_cos(u, v))  # Expected: -1.0"
   ]
  },
  {
   "cell_type": "markdown",
   "metadata": {},
   "source": [
    "### Example 4\n",
    "\n",
    "- **Example 4:** Collinear vectors (different magnitudes) have $\\cos(0°) = 1$\n",
    "    - Direction matters, not magnitude\n",
    "\n",
    "#### Visual Representation\n",
    "\n",
    "<details>\n",
    "    <summary><b>Click to view Cosine Similarity Visualization</b></summary>\n",
    "    <img src=\"../assets/cosine_similarity_collinear_vectors.png\" alt=\"Cosine Similarity\" width=\"60%\" height=\"60%\" />\n",
    "    <p><i>Cosine similarity measures the angle θ between two vectors. Vectors pointing in similar directions have a cosine similarity close to 1. Orthogonal vectors have a similarity of 0. Vectors pointing in opposite directions have a similarity close to -1.</i></p>\n",
    "</details>"
   ]
  },
  {
   "cell_type": "code",
   "execution_count": 15,
   "metadata": {},
   "outputs": [
    {
     "name": "stdout",
     "output_type": "stream",
     "text": [
      "Example 4: cosine: 0.9999999999999998\n"
     ]
    }
   ],
   "source": [
    "# Example 4: Collinear vectors\n",
    "u = Vector.from_list([2.0, 1.0])\n",
    "v = Vector.from_list([4.0, 2.0])\n",
    "print(\"Example 4:\", \"cosine:\", Vector.angle_cos(u, v))  # Expected: 1.0"
   ]
  },
  {
   "cell_type": "markdown",
   "metadata": {},
   "source": [
    "### Example 5\n",
    "\n",
    "- **Example 5:** For 3D vectors [1,2,3] and [4,5,6], $\\cos(\\theta) \\approx 0.9746$\n",
    "    - These vectors are strongly aligned\n",
    "\n",
    "\n",
    "#### Visual Representation\n",
    "\n",
    "<details>\n",
    "    <summary><b>Click to view Cosine Similarity Visualization</b></summary>\n",
    "    <img src=\"../assets/cosine_similarity_3d_vector.png\" alt=\"Cosine Similarity\" width=\"60%\" height=\"60%\" />\n",
    "    <p><i>Cosine similarity measures the angle θ between two vectors. Vectors pointing in similar directions have a cosine similarity close to 1. Orthogonal vectors have a similarity of 0. Vectors pointing in opposite directions have a similarity close to -1.</i></p>\n",
    "</details>"
   ]
  },
  {
   "cell_type": "code",
   "execution_count": 16,
   "metadata": {},
   "outputs": [
    {
     "name": "stdout",
     "output_type": "stream",
     "text": [
      "Example 5: cosine: 0.9746318461970762\n"
     ]
    }
   ],
   "source": [
    "# Example 5: General 3D vectors\n",
    "u = Vector.from_list([1.0, 2.0, 3.0])\n",
    "v = Vector.from_list([4.0, 5.0, 6.0])\n",
    "print(\"Example 5:\", \"cosine:\", Vector.angle_cos(u, v))  # Expected: ~0.974631846"
   ]
  }
 ],
 "metadata": {
  "kernelspec": {
   "display_name": "Python 3 (ipykernel)",
   "language": "python",
   "name": "python3"
  },
  "language_info": {
   "codemirror_mode": {
    "name": "ipython",
    "version": 3
   },
   "file_extension": ".py",
   "mimetype": "text/x-python",
   "name": "python",
   "nbconvert_exporter": "python",
   "pygments_lexer": "ipython3",
   "version": "3.10.12"
  }
 },
 "nbformat": 4,
 "nbformat_minor": 2
}
