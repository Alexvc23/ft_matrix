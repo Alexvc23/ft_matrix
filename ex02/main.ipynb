{
  "cells": [
    {
      "cell_type": "markdown",
      "id": "68c761f1",
      "metadata": {},
      "source": [
        "# ex02 – Linear Interpolation Demonstrations\n",
        "\n",
        "In this notebook, we show how to perform linear interpolation (lerp) on both vectors and matrices.\n",
        "\n",
        "\n",
        "## Definition\n",
        "\n",
        "Linear interpolation connects two known points, \\(u\\) and \\(v\\), with a straight line. The parameter \\(t\\) determines the position along that line:\n",
        "\n",
        "* When \\(t = 0\\), the result is \\(u\\)\n",
        "* When \\(t = 1\\), the result is \\(v\\)\n",
        "* When \\(t\\) is between 0 and 1, the result is a point on the line segment connecting \\(u\\) and \\(v\\)\n",
        "\n",
        "## Linear Interpolation Formula\n",
        "$$\n",
        "\\text{lerp}(a, b, t) = a + t \\times (b - a)\n",
        "$$\n",
        "\n",
        "Where:\n",
        "- $a$ is the starting value\n",
        "- $b$ is the ending value\n",
        "- $t$ is the interpolation parameter (typically between 0 and 1)\n",
        "\n",
        "## Usage in real-world applications\n",
        "which is often used to blend between two points or states in animations, physics, or more general numeric transitions."
      ]
    },
    {
      "cell_type": "markdown",
      "id": "9991174e",
      "metadata": {},
      "source": [
        "#### Imports"
      ]
    },
    {
      "cell_type": "code",
      "execution_count": 2,
      "id": "1650a961",
      "metadata": {},
      "outputs": [
        {
          "name": "stdout",
          "output_type": "stream",
          "text": [
            "cwd = /home/cliuser\n"
          ]
        }
      ],
      "source": [
        "# os module that is used to get the current working directory\n",
        "import os\n",
        "print(\"cwd =\", os.getcwd())"
      ]
    },
    {
      "cell_type": "code",
      "execution_count": 3,
      "id": "d6fc59de",
      "metadata": {},
      "outputs": [
        {
          "name": "stdout",
          "output_type": "stream",
          "text": [
            "cwd = /home/cliuser/downloads/42Projects/ft_matrix\n"
          ]
        }
      ],
      "source": [
        "\n",
        "# os.chdir () # change the current working directory to the specified path\n",
        "os.chdir(\"/home/cliuser/downloads/42Projects/ft_matrix\")  \n",
        "print(\"cwd =\", os.getcwd())"
      ]
    },
    {
      "cell_type": "code",
      "execution_count": 4,
      "id": "e94b7777",
      "metadata": {},
      "outputs": [],
      "source": [
        "from vector.vector import Vector\n",
        "from matrix.matrix import Matrix "
      ]
    },
    {
      "cell_type": "markdown",
      "id": "51cc2407",
      "metadata": {},
      "source": [
        "## Vector Lerp Examples\n",
        "\n",
        "Here, we demonstrate linear interpolation between two 2D vectors and between two other arbitrary 2D vectors.\n",
        "You can change the values of **t** to see the effect of blending from one vector to another.\n",
        "\n",
        "### Visual Representation\n",
        "\n",
        "<details>\n",
        "    <summary><b>Click to view Linear Interpolation Example</b></summary>\n",
        "    <img src=\"../assets/linear_interpolation.png\" alt=\"Linear Interpolation\" width=\"50%\" height=\"50%\" />\n",
        "    <p><i>The blue line represents linear interpolation between points A and B. Parameter t controls the position along this line.</i></p>\n",
        "</details>"
      ]
    },
    {
      "cell_type": "code",
      "execution_count": 5,
      "id": "26ed96da",
      "metadata": {},
      "outputs": [
        {
          "name": "stdout",
          "output_type": "stream",
          "text": [
            "v1: [2.0, 1.0]\n",
            "v2: [4.0, 2.0]\n",
            "lerp(t=0.5): [3.0, 1.5]\n"
          ]
        }
      ],
      "source": [
        " # We'll also use this later.\n",
        "\n",
        "# First vector LERP example\n",
        "v1 = Vector([2.0, 1.0])\n",
        "v2 = Vector([4.0, 2.0])\n",
        "t = 0.5  # blending factor\n",
        "\n",
        "result = Vector.lerp(v1, v2, t)\n",
        "print(\"v1:\", v1.data)\n",
        "print(\"v2:\", v2.data)\n",
        "print(f\"lerp(t={t}):\", result.data)"
      ]
    },
    {
      "cell_type": "code",
      "execution_count": 6,
      "id": "0906dd93",
      "metadata": {},
      "outputs": [
        {
          "name": "stdout",
          "output_type": "stream",
          "text": [
            "v3: [10.0, 20.0]\n",
            "v4: [40.0, 50.0]\n",
            "lerp(t=0.3): [19.0, 29.0]\n"
          ]
        }
      ],
      "source": [
        "# Second vector LERP example\n",
        "v3 = Vector([10.0, 20.0])\n",
        "v4 = Vector([40.0, 50.0])\n",
        "t2 = 0.3\n",
        "\n",
        "result2 = Vector.lerp(v3, v4, t2)\n",
        "print(\"v3:\", v3.data)\n",
        "print(\"v4:\", v4.data)\n",
        "print(f\"lerp(t={t2}):\", result2.data)"
      ]
    },
    {
      "cell_type": "markdown",
      "id": "2912603b",
      "metadata": {},
      "source": [
        "## Matrix Lerp Examples\n",
        "\n",
        "Similarly, we can interpolate between two matrices element-wise. Each entry in the resulting matrix is the linear interpolation of the corresponding entries in the source matrices."
      ]
    },
    {
      "cell_type": "code",
      "execution_count": 7,
      "id": "3fd87d33",
      "metadata": {},
      "outputs": [
        {
          "name": "stdout",
          "output_type": "stream",
          "text": [
            "m1: [[2.0, 1.0], [3.0, 4.0]]\n",
            "m2: [[20.0, 10.0], [30.0, 40.0]]\n",
            "lerp(t=0.5): [[11.0, 5.5], [16.5, 22.0]]\n"
          ]
        }
      ],
      "source": [
        "# Matrix LERP example\n",
        "m1 = Matrix([[2.0, 1.0], [3.0, 4.0]])\n",
        "m2 = Matrix([[20.0, 10.0], [30.0, 40.0]])\n",
        "t_mat = 0.5\n",
        "\n",
        "mat_result = Matrix.lerp(m1, m2, t_mat)\n",
        "print(\"m1:\", m1.data)\n",
        "print(\"m2:\", m2.data)\n",
        "print(f\"lerp(t={t_mat}):\", mat_result.data)"
      ]
    },
    {
      "cell_type": "markdown",
      "id": "125d8db4",
      "metadata": {},
      "source": [
        "### Note on Error Handling\n",
        "\n",
        "In these examples, we assume our `Vector.lerp` and `Matrix.lerp` methods throw a `ValueError` if:\n",
        "- The dimension of the objects doesn't match.\n",
        "- The interpolation factor **t** is outside the [0, 1] range.\n"
      ]
    },
    {
      "cell_type": "code",
      "execution_count": 8,
      "id": "f6290d70",
      "metadata": {},
      "outputs": [
        {
          "name": "stdout",
          "output_type": "stream",
          "text": [
            "Caught an error: Vectors must have the same size\n"
          ]
        }
      ],
      "source": [
        "\n",
        "try:\n",
        "    Vector.lerp(Vector([1.0]), Vector([2.0, 3.0]), 0.5)\n",
        "except ValueError as e:\n",
        "    print(\"Caught an error:\", e)"
      ]
    }
  ],
  "metadata": {
    "kernelspec": {
      "display_name": "Python 3 (ipykernel)",
      "language": "python",
      "name": "python3"
    },
    "language_info": {
      "codemirror_mode": {
        "name": "ipython",
        "version": 3
      },
      "file_extension": ".py",
      "mimetype": "text/x-python",
      "name": "python",
      "nbconvert_exporter": "python",
      "pygments_lexer": "ipython3",
      "version": "3.10.12"
    },
    "name": "main"
  },
  "nbformat": 4,
  "nbformat_minor": 5
}
