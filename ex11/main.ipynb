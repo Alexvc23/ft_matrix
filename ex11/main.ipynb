{
 "cells": [
  {
   "cell_type": "markdown",
   "metadata": {},
   "source": [
    "# Exercise 11 – Determinant\n",
    "\n",
    "**Goal:** Compute the determinant of an $n\\times n$ real matrix with $n\\le4$, in $O(n^3)$ time and $O(n^2)$ space.\\n\n",
    "\n",
    "Raise a `ValueError` if the matrix is not square."
   ]
  },
  {
   "cell_type": "markdown",
   "metadata": {},
   "source": [
    "---\n",
    "## 1. Theoretical Background\n",
    "\n",
    "- The determinant of a linear map $\\mathbb R^n\\to\\mathbb R^n$ measures the signed volume scaling that the map applies.\n",
    "- If $\\det(A)=0$, the map is **singular**: it collapses $\\mathbb R^n$ onto a lower-dimensional subspace.\n",
    "- **Square matrix requirement:** Only square matrices have determinants. Non-square input must error.\n",
    "- **Formulas by size:**\n",
    "  - $1\\times1$: $\\det([a])=a$.\n",
    "  - $2\\times2$: $\\det\\begin{pmatrix}a & b\\\\ c & d\\end{pmatrix}=ad-bc$.\n",
    "  - $3\\times3$: expand by minors or use Sarrus' rule.\n",
    "  - $4\\times4$: best via LU-style elimination (Gaussian elimination without pivoting) tracking swaps."
   ]
  },
  {
   "cell_type": "markdown",
   "metadata": {},
   "source": [
    "---\n",
    "## 2. Usage Examples\n",
    "We now test the determinant on subject examples."
   ]
  },
  {
   "cell_type": "markdown",
   "id": "f79adb63",
   "metadata": {},
   "source": [
    "### 2x2 Matrix\n",
    " * Singular matrix"
   ]
  },
  {
   "cell_type": "code",
   "execution_count": 1,
   "metadata": {},
   "outputs": [
    {
     "name": "stdout",
     "output_type": "stream",
     "text": [
      "det = 0.0\n"
     ]
    }
   ],
   "source": [
    "from matrix.matrix import Matrix\n",
    "# 2×2 singular\n",
    "u = Matrix([[1.0, -1.0], [-1.0, 1.0]])\n",
    "print('det =', u.determinant())  # expected 0.0\n"
   ]
  },
  {
   "cell_type": "markdown",
   "id": "9bc7ee67",
   "metadata": {},
   "source": [
    "### 3x3 Matrix uniform"
   ]
  },
  {
   "cell_type": "code",
   "execution_count": 2,
   "metadata": {},
   "outputs": [
    {
     "name": "stdout",
     "output_type": "stream",
     "text": [
      "det = 8.0\n"
     ]
    }
   ],
   "source": [
    "# 3×3 uniform scaling by 2\n",
    "u = Matrix([[2.,0.,0.],[0.,2.,0.],[0.,0.,2.]])\n",
    "print('det =', u.determinant())  # expected 8.0\n"
   ]
  },
  {
   "cell_type": "markdown",
   "id": "9f96f1ef",
   "metadata": {},
   "source": [
    "### 3x3 arbitrary matrix"
   ]
  },
  {
   "cell_type": "code",
   "execution_count": 8,
   "metadata": {},
   "outputs": [
    {
     "name": "stdout",
     "output_type": "stream",
     "text": [
      "det = -174.0\n"
     ]
    }
   ],
   "source": [
    "# 3×3 arbitrary\n",
    "u = Matrix([[8.,5.,-2.],[4.,7.,20.],[7.,6.,1.]])\n",
    "print('det =', u.determinant())  # expected -174.0\n"
   ]
  },
  {
   "cell_type": "markdown",
   "id": "6f4ca0df",
   "metadata": {},
   "source": [
    "### 4x4 matrix\n"
   ]
  },
  {
   "cell_type": "code",
   "execution_count": 7,
   "metadata": {},
   "outputs": [
    {
     "name": "stdout",
     "output_type": "stream",
     "text": [
      "det = 1032.0\n"
     ]
    }
   ],
   "source": [
    "# 4×4 general\n",
    "u = Matrix([\n",
    "    [8.,5.,-2.,4.],\n",
    "    [4.,2.5,20.,4.],\n",
    "    [8.,5.,1.,4.],\n",
    "    [28.,-4.,17.,1.]\n",
    "])\n",
    "print('det =', u.determinant())  # expected 1032\n"
   ]
  },
  {
   "cell_type": "markdown",
   "metadata": {},
   "source": [
    "---\n",
    "## 4. Error Handling\n",
    "Non-square input should raise `ValueError`."
   ]
  },
  {
   "cell_type": "code",
   "execution_count": 6,
   "metadata": {},
   "outputs": [
    {
     "name": "stdout",
     "output_type": "stream",
     "text": [
      "Raised ValueError as expected: Cannot compute determinant of non-square matrix\n"
     ]
    }
   ],
   "source": [
    "try:\n",
    "    bad = Matrix([[1,2,3],[4,5,6]])\n",
    "    print(bad.determinant())\n",
    "except ValueError as e:\n",
    "    print('Raised ValueError as expected:', e)\n"
   ]
  },
  {
   "cell_type": "markdown",
   "metadata": {},
   "source": [
    "---\n",
    "✅ Notebook complete: implementation, theory, examples, and error checks."
   ]
  }
 ],
 "metadata": {
  "kernelspec": {
   "display_name": "Python 3 (ipykernel)",
   "language": "python",
   "name": "python3"
  },
  "language_info": {
   "codemirror_mode": {
    "name": "ipython",
    "version": 3
   },
   "file_extension": ".py",
   "mimetype": "text/x-python",
   "name": "python",
   "nbconvert_exporter": "python",
   "pygments_lexer": "ipython3",
   "version": "3.10.12"
  }
 },
 "nbformat": 4,
 "nbformat_minor": 5
}
