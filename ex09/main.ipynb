{
 "cells": [
  {
   "cell_type": "markdown",
   "metadata": {},
   "source": [
    "# Exercise 09 – Transpose\n",
    "\n",
    "The **transpose** of a matrix $A \\in \\mathbb{R}^{m \\times n}$ is the matrix $A^T \\in \\mathbb{R}^{n \\times m}$ whose rows are the columns of $A$. Formally:\n",
    "\n",
    "$$(A^T)_{ij} = A_{ji}$$\n",
    "\n",
    "Below we implement and demonstrate this operation.\n"
   ]
  },
  {
   "cell_type": "code",
   "execution_count": 4,
   "metadata": {},
   "outputs": [
    {
     "name": "stdout",
     "output_type": "stream",
     "text": [
      "cwd = /home/cliuser\n"
     ]
    }
   ],
   "source": [
    "\n",
    "import os\n",
    "print(\"cwd =\", os.getcwd())"
   ]
  },
  {
   "cell_type": "code",
   "execution_count": 5,
   "metadata": {},
   "outputs": [],
   "source": [
    "from matrix.matrix import Matrix"
   ]
  },
  {
   "cell_type": "code",
   "execution_count": 6,
   "metadata": {},
   "outputs": [
    {
     "name": "stdout",
     "output_type": "stream",
     "text": [
      "Original (2×2):\n",
      "[1.0, 2.0]\n",
      "[3.0, 4.0]\n",
      "Transpose:\n",
      "[1.0, 3.0]\n",
      "[2.0, 4.0]\n"
     ]
    }
   ],
   "source": [
    "\n",
    "# 1) Square matrix 2×2\n",
    "A = Matrix.from_list([[1.0, 2.0], [3.0, 4.0]])\n",
    "print(\"Original (2×2):\")\n",
    "print(A)\n",
    "print(\"Transpose:\")\n",
    "print(A.transpose())\n"
   ]
  },
  {
   "cell_type": "code",
   "execution_count": 7,
   "metadata": {},
   "outputs": [
    {
     "name": "stdout",
     "output_type": "stream",
     "text": [
      "\n",
      "Original (2×3):\n",
      "[1.0, 2.0, 3.0]\n",
      "[4.0, 5.0, 6.0]\n",
      "Transpose (3×2):\n",
      "[1.0, 4.0]\n",
      "[2.0, 5.0]\n",
      "[3.0, 6.0]\n"
     ]
    }
   ],
   "source": [
    "\n",
    "# 2) Rectangular 2×3\n",
    "B = Matrix.from_list([[1.0, 2.0, 3.0], [4.0, 5.0, 6.0]])\n",
    "print(\"\\nOriginal (2×3):\")\n",
    "print(B)\n",
    "print(\"Transpose (3×2):\")\n",
    "print(B.transpose())"
   ]
  },
  {
   "cell_type": "code",
   "execution_count": 8,
   "metadata": {},
   "outputs": [
    {
     "name": "stdout",
     "output_type": "stream",
     "text": [
      "\n",
      "Original (3×2):\n",
      "[7.0, 8.0]\n",
      "[9.0, 10.0]\n",
      "[11.0, 12.0]\n",
      "Transpose (2×3):\n",
      "[7.0, 9.0, 11.0]\n",
      "[8.0, 10.0, 12.0]\n"
     ]
    }
   ],
   "source": [
    "\n",
    "\n",
    "# 3) Rectangular 3×2\n",
    "C = Matrix.from_list([[7.0, 8.0], [9.0, 10.0], [11.0, 12.0]])\n",
    "print(\"\\nOriginal (3×2):\")\n",
    "print(C)\n",
    "print(\"Transpose (2×3):\")\n",
    "print(C.transpose())"
   ]
  },
  {
   "cell_type": "markdown",
   "metadata": {},
   "source": [
    "### Explanation\n",
    "\n",
    "- **2×2 Square**: Transpose swaps off‑diagonal elements.\n",
    "- **2×3 → 3×2**: What were rows become columns.\n",
    "- **3×2 → 2×3**: Likewise, rows ↔ columns.\n",
    "\n",
    "Transpose is a fundamental building‑block in many algorithms\n",
    "from solving linear systems to computing symmetric matrices and\n",
    "beyond."
   ]
  }
 ],
 "metadata": {
  "kernelspec": {
   "display_name": "Python 3 (ipykernel)",
   "language": "python",
   "name": "python3"
  }
 },
 "nbformat": 4,
 "nbformat_minor": 2
}
