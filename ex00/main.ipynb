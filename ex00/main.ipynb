{
 "cells": [
  {
   "cell_type": "code",
   "execution_count": 13,
   "id": "0be20a53",
   "metadata": {},
   "outputs": [],
   "source": [
    "from vector import Vector\n",
    "from matrix import Matrix\n"
   ]
  },
  {
   "cell_type": "markdown",
   "id": "b8f20c32",
   "metadata": {},
   "source": [
    "\n",
    "# Vector and Matrix Operations\n",
    "\n",
    "Demonstrates the usage of the Vector and Matrix classes by performing\n",
    "various operations such as addition, subtraction, and scaling.\n",
    "\n",
    "This notebook showcases:\n",
    "- Vector operations (addition, subtraction, scaling)\n",
    "- Matrix operations (addition, subtraction, scaling)"
   ]
  },
  {
   "cell_type": "markdown",
   "id": "5e2c4537",
   "metadata": {},
   "source": [
    "## Vector Operations ➕➖✖️"
   ]
  },
  {
   "cell_type": "markdown",
   "id": "27e40f1b",
   "metadata": {},
   "source": [
    "### Vector addition"
   ]
  },
  {
   "cell_type": "code",
   "execution_count": 8,
   "id": "9c51bc49",
   "metadata": {},
   "outputs": [
    {
     "name": "stdout",
     "output_type": "stream",
     "text": [
      "u + v = [7.0, 10.0]\n"
     ]
    }
   ],
   "source": [
    "\n",
    "# Initialize two Objects Vector\n",
    "u = Vector([2.0, 3.0])\n",
    "v = Vector([5.0, 7.0])\n",
    "\n",
    "# Add two vectors\n",
    "u.add(v)\n",
    "\n",
    "print(f\"u + v = {u.data}\")\n"
   ]
  },
  {
   "cell_type": "markdown",
   "id": "9f7214be",
   "metadata": {},
   "source": [
    "### Vector subtraction"
   ]
  },
  {
   "cell_type": "code",
   "execution_count": 10,
   "id": "67480ab1",
   "metadata": {},
   "outputs": [
    {
     "name": "stdout",
     "output_type": "stream",
     "text": [
      "u = [-3.0, -4.0]\n",
      "v = [5.0, 7.0]\n",
      "u - v = [-3.0, -4.0]\n"
     ]
    }
   ],
   "source": [
    "\n",
    "# Reset vector u and subtract vectors\n",
    "# v = Vector([5.0, 7.0])\n",
    "print(f\"u = {u.data}\")\n",
    "print(f\"v = {v.data}\")\n",
    "\n",
    "u = Vector([2.0, 3.0])\n",
    "u.sub(v)\n",
    "\n",
    "print(f\"u - v = {u.data}\")"
   ]
  },
  {
   "cell_type": "markdown",
   "id": "486b38ec",
   "metadata": {},
   "source": [
    "### Vector scaling"
   ]
  },
  {
   "cell_type": "code",
   "execution_count": 12,
   "id": "457ca8d8",
   "metadata": {},
   "outputs": [
    {
     "name": "stdout",
     "output_type": "stream",
     "text": [
      "u = [4.0, 6.0]\n",
      "v = [5.0, 7.0]\n",
      "2 * u = [4.0, 6.0]\n",
      "2 * v = [10.0, 14.0]\n"
     ]
    }
   ],
   "source": [
    "\n",
    "# Scale Vector u by 2\n",
    "# u = Vector([2.0, 3.0])\n",
    "# v = Vector([5.0, 7.0])\n",
    "\n",
    "print(f\"u = {u.data}\")\n",
    "print(f\"v = {v.data}\")\n",
    "\n",
    "u = Vector([2.0, 3.0])\n",
    "u.scl(2)\n",
    "v.scl(2)\n",
    "\n",
    "print(f\"2 * u = {u.data}\")\n",
    "print(f\"2 * v = {v.data}\")\n"
   ]
  },
  {
   "cell_type": "markdown",
   "id": "bb1b8707",
   "metadata": {},
   "source": [
    "## Matrix Operations ➕➖✖️"
   ]
  },
  {
   "cell_type": "markdown",
   "id": "73523846",
   "metadata": {},
   "source": [
    "### Matrix addition"
   ]
  },
  {
   "cell_type": "code",
   "execution_count": 18,
   "id": "9e8e5083",
   "metadata": {},
   "outputs": [
    {
     "name": "stdout",
     "output_type": "stream",
     "text": [
      "A =\n",
      "['   1.0', '   2.0', '   3.0']\n",
      "['   4.0', '   5.0', '   6.0']\n",
      "['   7.0', '   8.0', '   9.0']\n",
      "\n",
      "B =\n",
      "['   2.0', '  -1.0', '   4.0']\n",
      "['   0.0', '   3.0', '  -2.0']\n",
      "['   1.0', '   5.0', '  -3.0']\n",
      "\n",
      "A + B =\n",
      "['   3.0', '   1.0', '   7.0']\n",
      "['   4.0', '   8.0', '   4.0']\n",
      "['   8.0', '  13.0', '   6.0']\n"
     ]
    }
   ],
   "source": [
    "\n",
    "\n",
    "# Example usage of Matrix class\n",
    "\n",
    "# Initialize two Matrices\n",
    "A = Matrix([[1.0, 2.0, 3.0], \n",
    "            [4.0, 5.0, 6.0], \n",
    "            [7.0, 8.0, 9.0]])\n",
    "\n",
    "B = Matrix([[2.0, -1.0, 4.0], \n",
    "            [0.0, 3.0, -2.0], \n",
    "            [1.0, 5.0, -3.0]])\n",
    "\n",
    "# print both matrices\n",
    "print(\"A =\")\n",
    "for row in A.data:\n",
    "    print([f\"{x:6.1f}\" for x in row])\n",
    "print(\"\\nB =\")\n",
    "for row in B.data:\n",
    "    print([f\"{x:6.1f}\" for x in row])\n",
    "\n",
    "\n",
    "# ?Add two matrices\n",
    "print(\"\\nA + B =\")\n",
    "A.add(B)\n",
    "for row in A.data:\n",
    "    print([f\"{x:6.1f}\" for x in row])"
   ]
  },
  {
   "cell_type": "code",
   "execution_count": null,
   "id": "f487570f",
   "metadata": {},
   "outputs": [],
   "source": [
    "\n",
    "# ?subtract matrices\n",
    "A = Matrix([[1.0, 2.0, 3.0], \n",
    "            [4.0, 5.0, 6.0], \n",
    "            [7.0, 8.0, 9.0]])\n",
    "for row in A.data:\n",
    "    print([f\"{x:6.1f}\" for x in row])\n",
    "for row in B.data:\n",
    "    print([f\"{x:6.1f}\" for x in row])\n",
    "A.sub(B)\n",
    "for row in A.data:\n",
    "    print([f\"{x:6.1f}\" for x in row])\n",
    "\n",
    "# ?Scale Matrix A by 2\n",
    "A = Matrix([[1.0, 2.0, 3.0], \n",
    "            [4.0, 5.0, 6.0], \n",
    "            [7.0, 8.0, 9.0]])\n",
    "for row in A.data:\n",
    "    print([f\"{x:6.1f}\" for x in row])\n",
    "A.scl(2)\n",
    "for row in A.data:\n",
    "    print([f\"{x:6.1f}\" for x in row])\n",
    "\n"
   ]
  },
  {
   "cell_type": "code",
   "execution_count": null,
   "id": "ddc4cf82",
   "metadata": {},
   "outputs": [],
   "source": []
  }
 ],
 "metadata": {
  "kernelspec": {
   "display_name": "env",
   "language": "python",
   "name": "python3"
  },
  "language_info": {
   "codemirror_mode": {
    "name": "ipython",
    "version": 3
   },
   "file_extension": ".py",
   "mimetype": "text/x-python",
   "name": "python",
   "nbconvert_exporter": "python",
   "pygments_lexer": "ipython3",
   "version": "3.10.12"
  }
 },
 "nbformat": 4,
 "nbformat_minor": 5
}
