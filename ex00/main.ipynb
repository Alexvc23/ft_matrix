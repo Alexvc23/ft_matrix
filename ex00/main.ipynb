{
 "cells": [
  {
   "cell_type": "code",
   "execution_count": 8,
   "id": "9b3acabe",
   "metadata": {},
   "outputs": [
    {
     "name": "stdout",
     "output_type": "stream",
     "text": [
      "cwd = /home/cliuser/downloads/42Projects/ft_matrix\n"
     ]
    }
   ],
   "source": [
    "# os module that is used to get the current working directory\n",
    "import os\n",
    "print(\"cwd =\", os.getcwd())"
   ]
  },
  {
   "cell_type": "code",
   "execution_count": 9,
   "id": "440438fe",
   "metadata": {},
   "outputs": [
    {
     "name": "stdout",
     "output_type": "stream",
     "text": [
      "cwd = /home/cliuser/downloads/42Projects/ft_matrix\n"
     ]
    }
   ],
   "source": [
    "\n",
    "# os.chdir () # change the current working directory to the specified path\n",
    "os.chdir(\"/home/cliuser/downloads/42Projects/ft_matrix\")  \n",
    "print(\"cwd =\", os.getcwd())"
   ]
  },
  {
   "cell_type": "code",
   "execution_count": 10,
   "id": "0be20a53",
   "metadata": {},
   "outputs": [],
   "source": [
    "from vector.vector import Vector\n",
    "from matrix.matrix import Matrix\n"
   ]
  },
  {
   "cell_type": "markdown",
   "id": "b8f20c32",
   "metadata": {},
   "source": [
    "\n",
    "# Vector and Matrix Operations\n",
    "\n",
    "Demonstrates the usage of the Vector and Matrix classes by performing\n",
    "various operations such as addition, subtraction, and scaling.\n",
    "\n",
    "This notebook showcases:\n",
    "- Vector operations (addition, subtraction, scaling)\n",
    "- Matrix operations (addition, subtraction, scaling)"
   ]
  },
  {
   "cell_type": "markdown",
   "id": "5e2c4537",
   "metadata": {},
   "source": [
    "## Vector Operations ➕➖✖️"
   ]
  },
  {
   "cell_type": "markdown",
   "id": "27e40f1b",
   "metadata": {},
   "source": [
    "### Vector addition"
   ]
  },
  {
   "cell_type": "code",
   "execution_count": 11,
   "id": "9c51bc49",
   "metadata": {},
   "outputs": [
    {
     "name": "stdout",
     "output_type": "stream",
     "text": [
      "u + v = [7.0, 10.0]\n"
     ]
    }
   ],
   "source": [
    "\n",
    "# Initialize two Objects Vector\n",
    "u = Vector([2.0, 3.0])\n",
    "v = Vector([5.0, 7.0])\n",
    "\n",
    "# Add two vectors\n",
    "u.add(v)\n",
    "\n",
    "print(f\"u + v = {u.data}\")\n"
   ]
  },
  {
   "cell_type": "markdown",
   "id": "9f7214be",
   "metadata": {},
   "source": [
    "### Vector subtraction"
   ]
  },
  {
   "cell_type": "code",
   "execution_count": 12,
   "id": "67480ab1",
   "metadata": {},
   "outputs": [
    {
     "name": "stdout",
     "output_type": "stream",
     "text": [
      "u = [7.0, 10.0]\n",
      "v = [5.0, 7.0]\n",
      "u - v = [-3.0, -4.0]\n"
     ]
    }
   ],
   "source": [
    "\n",
    "# Reset vector u and subtract vectors\n",
    "# v = Vector([5.0, 7.0])\n",
    "print(f\"u = {u.data}\")\n",
    "print(f\"v = {v.data}\")\n",
    "\n",
    "u = Vector([2.0, 3.0])\n",
    "u.sub(v)\n",
    "\n",
    "print(f\"u - v = {u.data}\")"
   ]
  },
  {
   "cell_type": "markdown",
   "id": "486b38ec",
   "metadata": {},
   "source": [
    "### Vector scaling"
   ]
  },
  {
   "cell_type": "code",
   "execution_count": 13,
   "id": "457ca8d8",
   "metadata": {},
   "outputs": [
    {
     "name": "stdout",
     "output_type": "stream",
     "text": [
      "u = [-3.0, -4.0]\n",
      "v = [5.0, 7.0]\n",
      "2 * u = [4.0, 6.0]\n",
      "2 * v = [10.0, 14.0]\n"
     ]
    }
   ],
   "source": [
    "\n",
    "# Scale Vector u by 2\n",
    "# u = Vector([2.0, 3.0])\n",
    "# v = Vector([5.0, 7.0])\n",
    "\n",
    "print(f\"u = {u.data}\")\n",
    "print(f\"v = {v.data}\")\n",
    "\n",
    "u = Vector([2.0, 3.0])\n",
    "u.scl(2)\n",
    "v.scl(2)\n",
    "\n",
    "print(f\"2 * u = {u.data}\")\n",
    "print(f\"2 * v = {v.data}\")\n"
   ]
  },
  {
   "cell_type": "markdown",
   "id": "bb1b8707",
   "metadata": {},
   "source": [
    "## Matrix Operations ➕➖✖️"
   ]
  },
  {
   "cell_type": "markdown",
   "id": "73523846",
   "metadata": {},
   "source": [
    "### Matrix addition"
   ]
  },
  {
   "cell_type": "code",
   "execution_count": 14,
   "id": "9e8e5083",
   "metadata": {},
   "outputs": [
    {
     "name": "stdout",
     "output_type": "stream",
     "text": [
      "A =\n",
      "['   1.0', '   2.0', '   3.0']\n",
      "['   4.0', '   5.0', '   6.0']\n",
      "['   7.0', '   8.0', '   9.0']\n",
      "\n",
      "B =\n",
      "['   2.0', '  -1.0', '   4.0']\n",
      "['   0.0', '   3.0', '  -2.0']\n",
      "['   1.0', '   5.0', '  -3.0']\n",
      "\n",
      "A + B =\n",
      "['   3.0', '   1.0', '   7.0']\n",
      "['   4.0', '   8.0', '   4.0']\n",
      "['   8.0', '  13.0', '   6.0']\n"
     ]
    }
   ],
   "source": [
    "\n",
    "\n",
    "# Example usage of Matrix class\n",
    "\n",
    "# Initialize two Matrices\n",
    "A = Matrix([[1.0, 2.0, 3.0], \n",
    "            [4.0, 5.0, 6.0], \n",
    "            [7.0, 8.0, 9.0]])\n",
    "\n",
    "B = Matrix([[2.0, -1.0, 4.0], \n",
    "            [0.0, 3.0, -2.0], \n",
    "            [1.0, 5.0, -3.0]])\n",
    "\n",
    "# print both matrices\n",
    "print(\"A =\")\n",
    "for row in A.data:\n",
    "    print([f\"{x:6.1f}\" for x in row])\n",
    "print(\"\\nB =\")\n",
    "for row in B.data:\n",
    "    print([f\"{x:6.1f}\" for x in row])\n",
    "\n",
    "\n",
    "# ?Add two matrices\n",
    "print(\"\\nA + B =\")\n",
    "A.add(B)\n",
    "for row in A.data:\n",
    "    print([f\"{x:6.1f}\" for x in row])"
   ]
  },
  {
   "cell_type": "markdown",
   "id": "179fc55e",
   "metadata": {},
   "source": [
    "### Matrix subtraction"
   ]
  },
  {
   "cell_type": "code",
   "execution_count": 15,
   "id": "f487570f",
   "metadata": {},
   "outputs": [
    {
     "name": "stdout",
     "output_type": "stream",
     "text": [
      "\n",
      "A =\n",
      "['   1.0', '   2.0', '   3.0']\n",
      "['   4.0', '   5.0', '   6.0']\n",
      "['   7.0', '   8.0', '   9.0']\n",
      "\n",
      "B =\n",
      "['   2.0', '  -1.0', '   4.0']\n",
      "['   0.0', '   3.0', '  -2.0']\n",
      "['   1.0', '   5.0', '  -3.0']\n",
      "\n",
      "A - B =\n",
      "['  -1.0', '   3.0', '  -1.0']\n",
      "['   4.0', '   2.0', '   8.0']\n",
      "['   6.0', '   3.0', '  12.0']\n"
     ]
    }
   ],
   "source": [
    "\n",
    "# ?subtract matrices\n",
    "A = Matrix([[1.0, 2.0, 3.0], \n",
    "            [4.0, 5.0, 6.0], \n",
    "            [7.0, 8.0, 9.0]])\n",
    "print(\"\\nA =\")\n",
    "for row in A.data:\n",
    "    print([f\"{x:6.1f}\" for x in row])\n",
    "\n",
    "print(\"\\nB =\")\n",
    "for row in B.data:\n",
    "    print([f\"{x:6.1f}\" for x in row])\n",
    "\n",
    "A.sub(B)\n",
    "\n",
    "print(\"\\nA - B =\")\n",
    "for row in A.data:\n",
    "    print([f\"{x:6.1f}\" for x in row])\n",
    "\n",
    "\n"
   ]
  },
  {
   "cell_type": "markdown",
   "id": "8f2ef12e",
   "metadata": {},
   "source": [
    "### Matrix scaling"
   ]
  },
  {
   "cell_type": "code",
   "execution_count": 16,
   "id": "ddc4cf82",
   "metadata": {},
   "outputs": [
    {
     "name": "stdout",
     "output_type": "stream",
     "text": [
      "A =\n",
      "['   1.0', '   2.0', '   3.0']\n",
      "['   4.0', '   5.0', '   6.0']\n",
      "['   7.0', '   8.0', '   9.0']\n",
      "\n",
      "2 * A =\n",
      "['   2.0', '   4.0', '   6.0']\n",
      "['   8.0', '  10.0', '  12.0']\n",
      "['  14.0', '  16.0', '  18.0']\n"
     ]
    }
   ],
   "source": [
    "\n",
    "#?Scale Matrix A by 2\n",
    "A = Matrix([[1.0, 2.0, 3.0], \n",
    "            [4.0, 5.0, 6.0], \n",
    "            [7.0, 8.0, 9.0]])\n",
    "print(\"A =\")\n",
    "for row in A.data:\n",
    "    print([f\"{x:6.1f}\" for x in row])\n",
    "\n",
    "A.scl(2)\n",
    "\n",
    "print(\"\\n2 * A =\")\n",
    "for row in A.data:\n",
    "    print([f\"{x:6.1f}\" for x in row])\n"
   ]
  }
 ],
 "metadata": {
  "kernelspec": {
   "display_name": "Python 3 (ipykernel)",
   "language": "python",
   "name": "python3"
  },
  "language_info": {
   "codemirror_mode": {
    "name": "ipython",
    "version": 3
   },
   "file_extension": ".py",
   "mimetype": "text/x-python",
   "name": "python",
   "nbconvert_exporter": "python",
   "pygments_lexer": "ipython3",
   "version": "3.10.12"
  }
 },
 "nbformat": 4,
 "nbformat_minor": 5
}
