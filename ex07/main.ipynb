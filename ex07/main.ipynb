{
 "cells": [
  {
   "cell_type": "markdown",
   "metadata": {},
   "source": [
    "# Exercise 07 – Linear Map & Matrix Multiplication\n",
    "\n",
    "Implement `mul_vec` and `mul_mat`:\n",
    "- \\(A u\\): matrix–vector product\n",
    "- \\(A B\\): matrix–matrix product"
   ]
  },
  {
   "cell_type": "code",
   "execution_count": 1,
   "metadata": {},
   "outputs": [
    {
     "name": "stdout",
     "output_type": "stream",
     "text": [
      "A * v = Vector([3.0, 4.0])\n"
     ]
    }
   ],
   "source": [
    "from vector.vector import Vector\n",
    "from matrix.matrix import Matrix\n",
    "\n",
    "# matrix × vector\n",
    "A = Matrix([[1.0, 0.0], [0.0, 1.0]])\n",
    "v = Vector([3.0, 4.0])\n",
    "print('A * v =', A.mul_vec(v))  # [3.0, 4.0]"
   ]
  },
  {
   "cell_type": "code",
   "execution_count": 2,
   "metadata": {},
   "outputs": [
    {
     "name": "stdout",
     "output_type": "stream",
     "text": [
      "A * B = [4.0, 4.0]\n",
      "[10.0, 8.0]\n"
     ]
    }
   ],
   "source": [
    "# matrix × matrix\n",
    "A = Matrix([[1.0, 2.0], [3.0, 4.0]])\n",
    "B = Matrix([[2.0, 0.0], [1.0, 2.0]])\n",
    "print('A * B =', A.mul_mat(B))  # [[4.0, 4.0], [10.0, 8.0]]"
   ]
  }
 ],
 "metadata": {
  "kernelspec": {
   "display_name": "Python 3 (ipykernel)",
   "language": "python",
   "name": "python3"
  },
  "language_info": {
   "codemirror_mode": {
    "name": "ipython",
    "version": 3
   },
   "file_extension": ".py",
   "mimetype": "text/x-python",
   "name": "python",
   "nbconvert_exporter": "python",
   "pygments_lexer": "ipython3",
   "version": "3.10.12"
  }
 },
 "nbformat": 4,
 "nbformat_minor": 2
}
