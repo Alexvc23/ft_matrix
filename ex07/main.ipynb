{
 "cells": [
  {
   "cell_type": "markdown",
   "metadata": {},
   "source": [
    "# Exercise 07 – Linear Map & Matrix Multiplication\n",
    "\n",
    "Implement `mul_vec` and `mul_mat`:\n",
    "- \\(A u\\): matrix–vector product\n",
    "- \\(A B\\): matrix–matrix product"
   ]
  },
  {
   "cell_type": "markdown",
   "metadata": {},
   "source": [
    "## Matrix-Vector Multiplication Example\n",
    "\n",
    "This section demonstrates the multiplication of a matrix by a vector using the `mul_vec` method.\n",
    "\n",
    "1.  **Initialization**:\n",
    "    *   A 2x2 identity matrix `A` is created:\n",
    "        ```\n",
    "        [[1.0, 0.0],\n",
    "         [0.0, 1.0]]\n",
    "        ```\n",
    "    *   A vector `v` is created:\n",
    "        ```\n",
    "        [3.0, 4.0]\n",
    "        ```\n",
    "2.  **Multiplication**:\n",
    "    *   The `mul_vec` method of matrix `A` is called with vector `v` as the argument: `A.mul_vec(v)`.\n",
    "3.  **Output**:\n",
    "    *   The result of the multiplication, which is expected to be the original vector `v` (since `A` is the identity matrix), is printed: `[3.0, 4.0]`."
   ]
  },
  {
   "cell_type": "code",
   "execution_count": 1,
   "metadata": {},
   "outputs": [
    {
     "name": "stdout",
     "output_type": "stream",
     "text": [
      "cwd = /home/cliuser\n"
     ]
    }
   ],
   "source": [
    "\n",
    "# os module that is used to get the current working directory\n",
    "import os\n",
    "print(\"cwd =\", os.getcwd())"
   ]
  },
  {
   "cell_type": "code",
   "execution_count": 2,
   "metadata": {},
   "outputs": [
    {
     "name": "stdout",
     "output_type": "stream",
     "text": [
      "cwd = /home/cliuser/downloads/42Projects/ft_matrix\n"
     ]
    }
   ],
   "source": [
    "\n",
    "# os.chdir () # change the current working directory to the specified path\n",
    "os.chdir(\"/home/cliuser/downloads/42Projects/ft_matrix\")  \n",
    "print(\"cwd =\", os.getcwd())"
   ]
  },
  {
   "cell_type": "code",
   "execution_count": 3,
   "metadata": {},
   "outputs": [
    {
     "name": "stdout",
     "output_type": "stream",
     "text": [
      "A * v = Vector([3.0, 4.0])\n"
     ]
    }
   ],
   "source": [
    "from vector.vector import Vector\n",
    "from matrix.matrix import Matrix\n",
    "\n",
    "# matrix × vector\n",
    "A = Matrix([[1.0, 0.0], [0.0, 1.0]])\n",
    "v = Vector([3.0, 4.0])\n",
    "print('A * v =', A.mul_vec(v))  # [3.0, 4.0]"
   ]
  },
  {
   "cell_type": "code",
   "execution_count": 4,
   "metadata": {},
   "outputs": [
    {
     "name": "stdout",
     "output_type": "stream",
     "text": [
      "A * B = [4.0, 4.0]\n",
      "[10.0, 8.0]\n"
     ]
    }
   ],
   "source": [
    "# matrix × matrix\n",
    "A = Matrix([[1.0, 2.0], [3.0, 4.0]])\n",
    "B = Matrix([[2.0, 0.0], [1.0, 2.0]])\n",
    "print('A * B =', A.mul_mat(B))  # [[4.0, 4.0], [10.0, 8.0]]"
   ]
  }
 ],
 "metadata": {
  "kernelspec": {
   "display_name": "Python 3 (ipykernel)",
   "language": "python",
   "name": "python3"
  },
  "language_info": {
   "codemirror_mode": {
    "name": "ipython",
    "version": 3
   },
   "file_extension": ".py",
   "mimetype": "text/x-python",
   "name": "python",
   "nbconvert_exporter": "python",
   "pygments_lexer": "ipython3",
   "version": "3.10.12"
  }
 },
 "nbformat": 4,
 "nbformat_minor": 2
}
