{
 "cells": [
  {
   "cell_type": "markdown",
   "metadata": {},
   "source": [
    "# Exercise 06 – Cross Product\n",
    "\n",
    "The cross product is a fundamental operation in 3D vector mathematics that produces a vector perpendicular to both input vectors.\n",
    "\n",
    "## Definition and Properties\n",
    "\n",
    "- **Definition**: $\\vec{u} \\times \\vec{v} = (u_2v_3 - u_3v_2,\\; u_3v_1 - u_1v_3,\\; u_1v_2 - u_2v_1)$\n",
    "- **Only defined for vectors in $\\mathbb{R}^3$** (vectors of length 3)\n",
    "- **Geometric interpretation**: The resulting vector is perpendicular to both input vectors\n",
    "- **Magnitude**: $|\\vec{u} \\times \\vec{v}| = |\\vec{u}||\\vec{v}|\\sin\\theta$, where $\\theta$ is the angle between the vectors\n",
    "- **Direction**: Determined by the right-hand rule\n",
    "\n",
    "## Examples\n",
    "\n",
    "The notebook demonstrates cross product calculations:\n",
    "- Standard basis vectors: $\\vec{e}_x \\times \\vec{e}_y = \\vec{e}_z$\n",
    "- Arbitrary vectors: $[1,2,3] \\times [4,5,6] = [-3,6,-3]$\n"
   ]
  },
  {
   "cell_type": "code",
   "execution_count": 1,
   "metadata": {},
   "outputs": [
    {
     "name": "stdout",
     "output_type": "stream",
     "text": [
      "cwd = /home/cliuser\n"
     ]
    }
   ],
   "source": [
    "# os module that is used to get the current working directory\n",
    "import os\n",
    "print(\"cwd =\", os.getcwd())"
   ]
  },
  {
   "cell_type": "code",
   "execution_count": 2,
   "metadata": {},
   "outputs": [
    {
     "name": "stdout",
     "output_type": "stream",
     "text": [
      "cwd = /home/cliuser/downloads/42/projects/ft_matrix\n"
     ]
    }
   ],
   "source": [
    "\n",
    "# os.chdir () # change the current working directory to the specified path\n",
    "os.chdir(\"/home/cliuser/downloads/42/projects/ft_matrix\")  \n",
    "print(\"cwd =\", os.getcwd())"
   ]
  },
  {
   "cell_type": "code",
   "execution_count": 3,
   "metadata": {},
   "outputs": [
    {
     "name": "stdout",
     "output_type": "stream",
     "text": [
      "e_x x e_y = [0.0, 0.0, 1.0]\n"
     ]
    }
   ],
   "source": [
    "from vector.vector import Vector\n",
    "\n",
    "# Example 1: basis vectors\n",
    "e_x = Vector([1.0, 0.0, 0.0])\n",
    "e_y = Vector([0.0, 1.0, 0.0])\n",
    "print(\"e_x x e_y =\", e_x.cross(e_y))  # [0, 0, 1]\n"
   ]
  },
  {
   "cell_type": "code",
   "execution_count": 4,
   "metadata": {},
   "outputs": [
    {
     "name": "stdout",
     "output_type": "stream",
     "text": [
      "[1,2,3] x [4,5,6] = [-3.0, 6.0, -3.0]\n"
     ]
    }
   ],
   "source": [
    "# Example 2: arbitrary vectors\n",
    "u = Vector([1.0, 2.0, 3.0])\n",
    "v = Vector([4.0, 5.0, 6.0])\n",
    "print(\"[1,2,3] x [4,5,6] =\", u.cross(v))  # [-3, 6, -3]\n"
   ]
  },
  {
   "cell_type": "code",
   "execution_count": 5,
   "metadata": {},
   "outputs": [
    {
     "name": "stdout",
     "output_type": "stream",
     "text": [
      "Error: not enough values to unpack (expected 3, got 2)\n"
     ]
    }
   ],
   "source": [
    "# Example 3: error on wrong dimension\n",
    "try:\n",
    "    Vector([1.0,2.0]).cross(Vector([1.0,2.0,3.0]))\n",
    "except ValueError as e:\n",
    "    print(\"Error:\", e)\n"
   ]
  }
 ],
 "metadata": {
  "kernelspec": {
   "display_name": "Python 3 (ipykernel)",
   "language": "python",
   "name": "python3"
  },
  "language_info": {
   "codemirror_mode": {
    "name": "ipython",
    "version": 3
   },
   "file_extension": ".py",
   "mimetype": "text/x-python",
   "name": "python",
   "nbconvert_exporter": "python",
   "pygments_lexer": "ipython3",
   "version": "3.10.12"
  }
 },
 "nbformat": 4,
 "nbformat_minor": 2
}
