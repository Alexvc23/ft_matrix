{
 "cells": [
  {
   "cell_type": "markdown",
   "metadata": {},
   "source": [
    "# Exercise 10 – Row‐Echelon Form\n",
    "\n",
    "We perform Gaussian elimination (no pivoting) to bring a matrix\n",
    "into row‐echelon form (upper triangular with leading 1s and zeros below).\n",
    "\n",
    "Algorithm outline:\n",
    "1. For each column in turn, find a nonzero pivot in or below the current row.\n",
    "2. Swap that pivot row into place.\n",
    "3. Normalize the pivot row so the leading entry is 1.\n",
    "4. Eliminate all entries below the pivot.\n",
    "5. Move to the next row and column."
   ]
  },
  {
   "cell_type": "markdown",
   "metadata": {},
   "source": [
    "#### heler funtion"
   ]
  },
  {
   "cell_type": "code",
   "execution_count": 8,
   "metadata": {},
   "outputs": [],
   "source": [
    "from matrix.matrix import Matrix\n",
    "\n",
    "def show(mat):\n",
    "    \"\"\"\n",
    "    Displays a matrix followed by an empty line.\n",
    "\n",
    "    This function takes a matrix as input, prints it to the standard output,\n",
    "    and then prints an empty line for better visual separation.\n",
    "\n",
    "    Parameters\n",
    "    ----------\n",
    "    mat : any\n",
    "        The matrix or object to be displayed.\n",
    "\n",
    "    Returns\n",
    "    -------\n",
    "    None\n",
    "    \"\"\"\n",
    "    print(mat)\n",
    "    print()\n",
    "\n"
   ]
  },
  {
   "cell_type": "markdown",
   "metadata": {},
   "source": [
    "## Examples"
   ]
  },
  {
   "cell_type": "markdown",
   "metadata": {},
   "source": [
    "###  <span style=\"color:red\">1.Matrix Row Echelon Form Explanation</span>\n",
    "\n",
    "This example demonstrates different matrices and their row echelon forms.\n",
    "\n",
    "#### Identity Matrix\n",
    "\n",
    "An identity matrix is a square matrix with 1s along the main diagonal and 0s elsewhere. In this example, we create a 3×3 identity matrix.\n",
    "\n",
    "#### Row Echelon Form\n",
    "\n",
    "Row echelon form is a normalized form of a matrix with the following properties:\n",
    "- All rows with only zero entries are at the bottom\n",
    "- The leading entry (first non-zero element) of each non-zero row is to the right of the leading entry of the row above\n",
    "- All entries below a leading entry are zeros\n",
    "- The leading entry in each non-zero row is 1\n",
    "\n",
    "When we compute the row echelon form of an identity matrix, the result will be the same as the original matrix because the identity matrix is already in row echelon form.\n"
   ]
  },
  {
   "cell_type": "code",
   "execution_count": 9,
   "metadata": {},
   "outputs": [
    {
     "name": "stdout",
     "output_type": "stream",
     "text": [
      "Original 3×3 identity:\n",
      "[1.0, 0.0, 0.0]\n",
      "[0.0, 1.0, 0.0]\n",
      "[0.0, 0.0, 1.0]\n",
      "\n",
      "Row‐echelon:\n",
      "[1.0, 0.0, 0.0]\n",
      "[0.0, 1.0, 0.0]\n",
      "[0.0, 0.0, 1.0]\n",
      "\n"
     ]
    }
   ],
   "source": [
    "\n",
    "# 1) Identity 3×3\n",
    "m1 = Matrix.from_list([\n",
    "    [1.0,0.0,0.0],\n",
    "    [0.0,1.0,0.0],\n",
    "    [0.0,0.0,1.0]\n",
    "])\n",
    "\n",
    "print(\"Original 3×3 identity:\")\n",
    "show(m1)\n",
    "print(\"Row‐echelon:\")\n",
    "show(m1.row_echelon())"
   ]
  },
  {
   "cell_type": "markdown",
   "metadata": {},
   "source": [
    "## <span style=\"color:red\"> Example 2×2 Matrix</span>"
   ]
  },
  {
   "cell_type": "code",
   "execution_count": 10,
   "metadata": {},
   "outputs": [
    {
     "name": "stdout",
     "output_type": "stream",
     "text": [
      "Original 2×2:\n",
      "[1.0, 2.0]\n",
      "[3.0, 4.0]\n",
      "\n",
      "Row‐echelon:\n",
      "[1.0, 2.0]\n",
      "[-0.0, 1.0]\n",
      "\n"
     ]
    }
   ],
   "source": [
    "\n",
    "# 2) Simple 2×2\n",
    "m2 = Matrix.from_list([[1.0,2.0],[3.0,4.0]])\n",
    "print(\"Original 2×2:\")\n",
    "show(m2)\n",
    "print(\"Row‐echelon:\")\n",
    "show(m2.row_echelon())\n"
   ]
  },
  {
   "cell_type": "markdown",
   "metadata": {},
   "source": [
    "\n",
    "## <span style=\"color:red\"> Example Degenerate 2×2</span>"
   ]
  },
  {
   "cell_type": "code",
   "execution_count": 11,
   "metadata": {},
   "outputs": [
    {
     "name": "stdout",
     "output_type": "stream",
     "text": [
      "Original degenerate:\n",
      "[1.0, 2.0]\n",
      "[2.0, 4.0]\n",
      "\n",
      "Row‐echelon:\n",
      "[1.0, 2.0]\n",
      "[0.0, 0.0]\n",
      "\n"
     ]
    }
   ],
   "source": [
    "\n",
    "# 3) Degenerate 2×2\n",
    "m3 = Matrix.from_list([[1.0,2.0],[2.0,4.0]])\n",
    "print(\"Original degenerate:\")\n",
    "show(m3)\n",
    "print(\"Row‐echelon:\")\n",
    "show(m3.row_echelon())\n"
   ]
  },
  {
   "cell_type": "markdown",
   "metadata": {},
   "source": [
    " ## <span style=\"color:red\">Full example 3×5</span>\n",
    " \n",
    "### Explanation of the 3×5 example\n",
    "\n",
    "1. Pivot on 8 → divide first row by 8 → leading 1 at (0,0).\n",
    "2. Eliminate below → zero out entries in col 0 for rows 1 and 2.\n",
    "3. Next pivot at col 1: both entries are zero → skip to col 2.\n",
    "4. Pivot on 20 (row 1,col 2) → divide row 1 by 20 → leading 1 at (1,2).\n",
    "5. Eliminate below (only row 2).\n",
    "6. Next pivot at col 3 (row 2,col 3) → divide by 4 → leading 1 at (2,3).\n",
    "7. No rows below → done.\n",
    "\n",
    "Final rows:\n",
    "- `[1.0, 0.625, 0.0, 0.0, -12.1666667]`\n",
    "- `[0.0, 0.0, 1.0, 0.0, -3.6666667]`\n",
    "- `[0.0, 0.0, 0.0, 1.0, 29.5]`\n"
   ]
  },
  {
   "cell_type": "code",
   "execution_count": 12,
   "metadata": {},
   "outputs": [
    {
     "name": "stdout",
     "output_type": "stream",
     "text": [
      "Original 3×5:\n",
      "[8.0, 5.0, -2.0, 4.0, 28.0]\n",
      "[4.0, 2.5, 20.0, 4.0, -4.0]\n",
      "[8.0, 5.0, 1.0, 4.0, 17.0]\n",
      "\n",
      "Row‐echelon:\n",
      "[1.0, 0.625, -0.25, 0.5, 3.5]\n",
      "[0.0, 0.0, 1.0, 0.09523809523809523, -0.8571428571428571]\n",
      "[-0.0, -0.0, -0.0, 1.0, 29.500000000000004]\n",
      "\n"
     ]
    }
   ],
   "source": [
    "\n",
    "# 4) Full example 3×5\n",
    "m4 = Matrix.from_list([\n",
    "    [8.0, 5.0, -2.0, 4.0, 28.0],\n",
    "    [4.0, 2.5, 20.0, 4.0, -4.0],\n",
    "    [8.0, 5.0,  1.0, 4.0, 17.0]\n",
    "])\n",
    "print(\"Original 3×5:\")\n",
    "show(m4)\n",
    "print(\"Row‐echelon:\")\n",
    "show(m4.row_echelon())"
   ]
  }
 ],
 "metadata": {
  "kernelspec": {
   "display_name": "Python 3 (ipykernel)",
   "language": "python",
   "name": "python3"
  },
  "language_info": {
   "codemirror_mode": {
    "name": "ipython",
    "version": 3
   },
   "file_extension": ".py",
   "mimetype": "text/x-python",
   "name": "python",
   "nbconvert_exporter": "python",
   "pygments_lexer": "ipython3",
   "version": "3.10.12"
  }
 },
 "nbformat": 4,
 "nbformat_minor": 2
}
