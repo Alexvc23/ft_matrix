{
 "cells": [
  {
   "cell_type": "code",
   "execution_count": 1,
   "id": "13433d28",
   "metadata": {},
   "outputs": [
    {
     "name": "stdout",
     "output_type": "stream",
     "text": [
      "cwd = /home/cliuser\n"
     ]
    }
   ],
   "source": [
    "# os module that is used to get the current working directory\n",
    "import os\n",
    "print(\"cwd =\", os.getcwd())"
   ]
  },
  {
   "cell_type": "code",
   "execution_count": 2,
   "id": "7df8b716",
   "metadata": {},
   "outputs": [
    {
     "name": "stdout",
     "output_type": "stream",
     "text": [
      "cwd = /home/cliuser/downloads/42/projects/ft_matrix\n"
     ]
    }
   ],
   "source": [
    "\n",
    "# os.chdir () # change the current working directory to the specified path\n",
    "os.chdir(\"/home/cliuser/downloads/42/projects/ft_matrix\")  \n",
    "print(\"cwd =\", os.getcwd())"
   ]
  },
  {
   "cell_type": "markdown",
   "id": "588cc961",
   "metadata": {},
   "source": [
    "### Imports"
   ]
  },
  {
   "cell_type": "code",
   "execution_count": 3,
   "id": "728a6eb5",
   "metadata": {},
   "outputs": [],
   "source": [
    "from vector.vector import Vector"
   ]
  },
  {
   "cell_type": "markdown",
   "id": "ebc49140",
   "metadata": {},
   "source": [
    "## What's a Linear Combination?\n",
    "\n",
    "A linear combination involves taking several vectors and scaling each one by a number (called a scalar), then adding them up. For instance:\n",
    "\n",
    "$$\n",
    "\\text{Result} = (2 \\times [1, 2, 3]) + (1 \\times [4, 5, 6]) = [2, 4, 6] + [4, 5, 6] = [6, 9, 12]\n",
    "$$\n"
   ]
  },
  {
   "cell_type": "markdown",
   "id": "98d9f0a3",
   "metadata": {},
   "source": [
    "### Basic example"
   ]
  },
  {
   "cell_type": "code",
   "execution_count": 4,
   "id": "bf0f5a7e",
   "metadata": {},
   "outputs": [
    {
     "name": "stdout",
     "output_type": "stream",
     "text": [
      "[6.0, 9.0, 12.0]\n"
     ]
    }
   ],
   "source": [
    "\n",
    "# Example 1: Basic linear combination\n",
    "vectors1 = [[1, 2, 3], [4, 5, 6]]\n",
    "\n",
    "scalars1 = [2, 1]\n",
    "try:\n",
    "    result1 = Vector.linear_combination(vectors1, scalars1)\n",
    "    print(result1)\n",
    "except ValueError as e:\n",
    "    print(e)\n"
   ]
  },
  {
   "cell_type": "markdown",
   "id": "6c52649c",
   "metadata": {},
   "source": [
    "\n",
    "### Example linear combination with more vectors\n",
    "\n",
    "Linear combinations are versatile and can involve any number of vectors. For example, with three standard basis vectors:\n",
    "\n",
    "$$\n",
    "\\text{Result} = (2 \\times [1, 0, 0]) + (-1 \\times [0, 1, 0]) + (3 \\times [0, 0, 1]) = [2, 0, 0] + [0, -1, 0] + [0, 0, 3] = [2, -1, 3]\n",
    "$$\n",
    "\n",
    "This combines the standard basis vectors scaled by different amounts. Each vector contributes to a specific dimension in the resulting vector.\n",
    "\n"
   ]
  },
  {
   "cell_type": "code",
   "execution_count": 5,
   "id": "1dad3e9d",
   "metadata": {},
   "outputs": [
    {
     "name": "stdout",
     "output_type": "stream",
     "text": [
      "[2.0, -1.0, 3.0]\n"
     ]
    }
   ],
   "source": [
    "\n",
    "# Example 2: Linear combination with more vectors\n",
    "vectors2 = [[1, 0, 0], [0, 1, 0], [0, 0, 1]]\n",
    "scalars2 = [2, -1, 3]\n",
    "try:\n",
    "    result2 = Vector.linear_combination(vectors2, scalars2)\n",
    "    print(result2)\n",
    "except ValueError as e:\n",
    "    print(e)\n"
   ]
  },
  {
   "cell_type": "markdown",
   "id": "eafc7a22",
   "metadata": {},
   "source": [
    "### Example mismatched vectors and scalars"
   ]
  },
  {
   "cell_type": "code",
   "execution_count": 6,
   "id": "b316b81a",
   "metadata": {},
   "outputs": [
    {
     "name": "stdout",
     "output_type": "stream",
     "text": [
      "The number of vectors must match the number of scalars.\n"
     ]
    }
   ],
   "source": [
    "\n",
    "# Example 3: Error case - mismatched vectors and scalars\n",
    "vectors3 = [[1, 1], [2, 2], [3, 3]]\n",
    "scalars3 = [1, 2]\n",
    "try:\n",
    "    result3 = Vector.linear_combination(vectors3, scalars3)\n",
    "    print(result3)\n",
    "except ValueError as e:\n",
    "    print(e)"
   ]
  },
  {
   "cell_type": "markdown",
   "id": "f48a00b8",
   "metadata": {},
   "source": [
    "# Exercise 06 – Cross Product\n",
    "\n",
    "Compute the cross product of two 3D vectors:\n",
    "- **Definition**: \\(u \\times v = (u_2v_3 - u_3v_2,\\; u_3v_1 - u_1v_3,\\; u_1v_2 - u_2v_1)\\)\n",
    "- Only defined for vectors in \\(\\mathbb{R}^3\\) (length = 3).\n"
   ]
  },
  {
   "cell_type": "code",
   "execution_count": null,
   "id": "c80e024a",
   "metadata": {},
   "outputs": [],
   "source": [
    "from vector import Vector\n",
    "\n",
    "# Example 1: basis vectors\n",
    "e_x = Vector([1.0, 0.0, 0.0])\n",
    "e_y = Vector([0.0, 1.0, 0.0])\n",
    "print(\"e_x x e_y =\", e_x.cross(e_y))  # [0, 0, 1]\n"
   ]
  },
  {
   "cell_type": "code",
   "execution_count": null,
   "id": "cb06e6c1",
   "metadata": {},
   "outputs": [],
   "source": [
    "# Example 2: arbitrary vectors\n",
    "u = Vector([1.0, 2.0, 3.0])\n",
    "v = Vector([4.0, 5.0, 6.0])\n",
    "print(\"[1,2,3] x [4,5,6] =\", u.cross(v))  # [-3, 6, -3]\n"
   ]
  },
  {
   "cell_type": "code",
   "execution_count": null,
   "id": "b3fc1305",
   "metadata": {},
   "outputs": [],
   "source": [
    "# Example 3: error on wrong dimension\n",
    "try:\n",
    "    Vector([1.0,2.0]).cross(Vector([1.0,2.0,3.0]))\n",
    "except ValueError as e:\n",
    "    print(\"Error:\", e)\n"
   ]
  }
 ],
 "metadata": {
  "kernelspec": {
   "display_name": "Python 3 (ipykernel)",
   "language": "python",
   "name": "python3"
  }
 },
 "nbformat": 4,
 "nbformat_minor": 5
}
