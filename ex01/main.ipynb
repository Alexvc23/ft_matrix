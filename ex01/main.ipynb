{
 "cells": [
  {
   "cell_type": "code",
   "execution_count": 2,
   "id": "728a6eb5",
   "metadata": {},
   "outputs": [
    {
     "ename": "ModuleNotFoundError",
     "evalue": "No module named 'vector'",
     "output_type": "error",
     "traceback": [
      "\u001b[0;31m---------------------------------------------------------------------------\u001b[0m",
      "\u001b[0;31mModuleNotFoundError\u001b[0m                       Traceback (most recent call last)",
      "Cell \u001b[0;32mIn[2], line 1\u001b[0m\n\u001b[0;32m----> 1\u001b[0m \u001b[38;5;28;01mfrom\u001b[39;00m\u001b[38;5;250m \u001b[39m\u001b[38;5;21;01mvector\u001b[39;00m\u001b[38;5;250m \u001b[39m\u001b[38;5;28;01mimport\u001b[39;00m Vector\n",
      "\u001b[0;31mModuleNotFoundError\u001b[0m: No module named 'vector'"
     ]
    }
   ],
   "source": [
    "from vector import Vector\n",
    "\n"
   ]
  },
  {
   "cell_type": "markdown",
   "id": "ebc49140",
   "metadata": {},
   "source": [
    "## What's a Linear Combination?\n",
    "\n",
    "A linear combination involves taking several vectors and scaling each one by a number (called a scalar), then adding them up. For instance:\n",
    "\n",
    "$$\n",
    "\\text{Result} = (2 \\times [1, 2, 3]) + (1 \\times [4, 5, 6]) = [2, 4, 6] + [4, 5, 6] = [6, 9, 12]\n",
    "$$\n"
   ]
  },
  {
   "cell_type": "markdown",
   "id": "98d9f0a3",
   "metadata": {},
   "source": [
    "### Basic example"
   ]
  },
  {
   "cell_type": "code",
   "execution_count": 5,
   "id": "bf0f5a7e",
   "metadata": {},
   "outputs": [
    {
     "name": "stdout",
     "output_type": "stream",
     "text": [
      "[6.0, 9.0, 12.0]\n"
     ]
    }
   ],
   "source": [
    "\n",
    "# Example 1: Basic linear combination\n",
    "vectors1 = [[1, 2, 3], [4, 5, 6]]\n",
    "\n",
    "scalars1 = [2, 1]\n",
    "try:\n",
    "    result1 = Vector.linear_combination(vectors1, scalars1)\n",
    "    print(result1)\n",
    "except ValueError as e:\n",
    "    print(e)\n"
   ]
  },
  {
   "cell_type": "markdown",
   "id": "6c52649c",
   "metadata": {},
   "source": [
    "\n",
    "### Example linear combination with more vectors\n",
    "\n",
    "Linear combinations are versatile and can involve any number of vectors. For example, with three standard basis vectors:\n",
    "\n",
    "$$\n",
    "\\text{Result} = (2 \\times [1, 0, 0]) + (-1 \\times [0, 1, 0]) + (3 \\times [0, 0, 1]) = [2, 0, 0] + [0, -1, 0] + [0, 0, 3] = [2, -1, 3]\n",
    "$$\n",
    "\n",
    "This combines the standard basis vectors scaled by different amounts. Each vector contributes to a specific dimension in the resulting vector.\n",
    "\n"
   ]
  },
  {
   "cell_type": "code",
   "execution_count": 9,
   "id": "1dad3e9d",
   "metadata": {},
   "outputs": [
    {
     "name": "stdout",
     "output_type": "stream",
     "text": [
      "[2.0, -1.0, 3.0]\n"
     ]
    }
   ],
   "source": [
    "\n",
    "# Example 2: Linear combination with more vectors\n",
    "vectors2 = [[1, 0, 0], [0, 1, 0], [0, 0, 1]]\n",
    "scalars2 = [2, -1, 3]\n",
    "try:\n",
    "    result2 = Vector.linear_combination(vectors2, scalars2)\n",
    "    print(result2)\n",
    "except ValueError as e:\n",
    "    print(e)\n"
   ]
  },
  {
   "cell_type": "markdown",
   "id": "eafc7a22",
   "metadata": {},
   "source": [
    "### Example mismatched vectors and scalars"
   ]
  },
  {
   "cell_type": "code",
   "execution_count": 10,
   "id": "b316b81a",
   "metadata": {},
   "outputs": [
    {
     "name": "stdout",
     "output_type": "stream",
     "text": [
      "The number of vectors must match the number of scalars.\n"
     ]
    }
   ],
   "source": [
    "\n",
    "# Example 3: Error case - mismatched vectors and scalars\n",
    "vectors3 = [[1, 1], [2, 2], [3, 3]]\n",
    "scalars3 = [1, 2]\n",
    "try:\n",
    "    result3 = Vector.linear_combination(vectors3, scalars3)\n",
    "    print(result3)\n",
    "except ValueError as e:\n",
    "    print(e)"
   ]
  }
 ],
 "metadata": {
  "kernelspec": {
   "display_name": "Python 3 (ipykernel)",
   "language": "python",
   "name": "python3"
  },
  "language_info": {
   "codemirror_mode": {
    "name": "ipython",
    "version": 3
   },
   "file_extension": ".py",
   "mimetype": "text/x-python",
   "name": "python",
   "nbconvert_exporter": "python",
   "pygments_lexer": "ipython3",
   "version": "3.10.12"
  }
 },
 "nbformat": 4,
 "nbformat_minor": 5
}
