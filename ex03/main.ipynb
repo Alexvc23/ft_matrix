{
 "cells": [
  {
   "cell_type": "markdown",
   "metadata": {},
   "source": [
    "# Exercise 03 – Dot Product\n",
    "\n",
    "## The Dot Product\n",
    "\n",
    "The dot product is a fundamental operation between two vectors that results in a scalar value. It's also called the scalar product or inner product.\n",
    "\n",
    "### Definition\n",
    "\n",
    "For two vectors $\\mathbf{u} = [u_1, u_2, ..., u_n]$ and $\\mathbf{v} = [v_1, v_2, ..., v_n]$, their dot product is:\n",
    "\n",
    "$$\n",
    "\\mathbf{u} \\cdot \\mathbf{v} = u_1 \\times v_1 + u_2 \\times v_2 + ... + u_n \\times v_n = \\sum_{i=1}^{n} u_i v_i\n",
    "$$\n",
    "\n",
    "### Example Calculation\n",
    "\n",
    "If $\\mathbf{u} = [1, 2, 3]$ and $\\mathbf{v} = [4, 5, 6]$:\n"
   ]
  },
  {
   "cell_type": "markdown",
   "metadata": {},
   "source": [
    "# Examples"
   ]
  },
  {
   "cell_type": "markdown",
   "metadata": {},
   "source": [
    "\n",
    "1. **Example 1:** For vectors `[-1.0, 6.0]` and `[3.0, 2.0]`, the dot product is `(-1.0*3.0) + (6.0*2.0) = -3.0 + 12.0 = 9.0`.\n",
    "\n",
    "\n",
    "<details>\n",
    "    <summary><b>Click to view graphical Representation</b></summary>\n",
    "    <img src=\"../assets/dot_product.png\" alt=\"Dot Product Geometry\" width=\"100%\" height=\"100%\" />\n",
    "</details>"
   ]
  },
  {
   "cell_type": "code",
   "execution_count": 13,
   "metadata": {},
   "outputs": [
    {
     "name": "stdout",
     "output_type": "stream",
     "text": [
      "\n",
      "Example 3:\n",
      "u = [-1.0, 6.0]\n",
      "v = [3.0, 2.0]\n",
      "u · v = 9.0\n"
     ]
    }
   ],
   "source": [
    "\n",
    "from vector import Vector\n",
    "\n",
    "# Example 3: Dot product with negative values\n",
    "u = Vector([-1.0, 6.0])\n",
    "v = Vector([3.0, 2.0])\n",
    "print('\\nExample 3:')\n",
    "print('u =', u)\n",
    "print('v =', v)\n",
    "print('u · v =', u.dot(v))  # Expected output: 9.0\n",
    "\n",
    "\n"
   ]
  },
  {
   "cell_type": "markdown",
   "metadata": {},
   "source": [
    "\n",
    "\n",
    "2. **Example 2:** The dot product of the zero vector `[0.0, 0.0]` with any other vector is always 0.\n"
   ]
  },
  {
   "cell_type": "code",
   "execution_count": 14,
   "metadata": {},
   "outputs": [
    {
     "name": "stdout",
     "output_type": "stream",
     "text": [
      "Example 1:\n",
      "u = [0.0, 0.0]\n",
      "v = [1.0, 1.0]\n",
      "u · v = 0.0\n"
     ]
    }
   ],
   "source": [
    "\n",
    "# Example 1: Dot product with a zero vector\n",
    "u = Vector([0.0, 0.0])\n",
    "v = Vector([1.0, 1.0])\n",
    "print('Example 1:')\n",
    "print('u =', u)\n",
    "print('v =', v)\n",
    "print('u · v =', u.dot(v))  # Expected output: 0.0\n",
    "\n"
   ]
  },
  {
   "cell_type": "markdown",
   "metadata": {},
   "source": [
    "\n",
    "3. **Example 3:** For vectors `[1.0, 1.0]`, the dot product is `1.0*1.0 + 1.0*1.0 = 2.0`."
   ]
  },
  {
   "cell_type": "code",
   "execution_count": 15,
   "metadata": {},
   "outputs": [
    {
     "name": "stdout",
     "output_type": "stream",
     "text": [
      "\n",
      "Example 2:\n",
      "u = [1.0, 1.0]\n",
      "v = [1.0, 1.0]\n",
      "u · v = 2.0\n"
     ]
    }
   ],
   "source": [
    "\n",
    "# Example 2: Dot product of two identical vectors\n",
    "u = Vector([1.0, 1.0])\n",
    "v = Vector([1.0, 1.0])\n",
    "print('\\nExample 2:')\n",
    "print('u =', u)\n",
    "print('v =', v)\n",
    "print('u · v =', u.dot(v))  # Expected output: 2.0\n",
    "\n"
   ]
  },
  {
   "cell_type": "markdown",
   "metadata": {},
   "source": [
    "4. **Example 4:** For vectors `[1.0, 2.0]` and `[3.0, 4.0]`, the dot product is `1.0*3.0 + 2.0*4.0 = 3.0 + 8.0 = 11.0`."
   ]
  },
  {
   "cell_type": "code",
   "execution_count": 16,
   "metadata": {},
   "outputs": [
    {
     "name": "stdout",
     "output_type": "stream",
     "text": [
      "\n",
      "Example 4:\n",
      "u = [1.0, 2.0]\n",
      "v = [3.0, 4.0]\n",
      "u · v = 11.0\n"
     ]
    }
   ],
   "source": [
    "\n",
    "# Example 4: Dot product with only positive values\n",
    "u = Vector([1.0, 2.0])\n",
    "v = Vector([3.0, 4.0])\n",
    "print('\\nExample 4:')\n",
    "print('u =', u)\n",
    "print('v =', v)\n",
    "print('u · v =', u.dot(v))  # Expected output: 11.0"
   ]
  },
  {
   "cell_type": "markdown",
   "metadata": {},
   "source": [
    "5. **Example 5:** For vectors `[1.0, 2.0]` and `[3.0, 4.0]`, the dot product is `1.0*3.0 + 2.0*4.0 = 3.0 + 8.0 = 11.0`."
   ]
  },
  {
   "cell_type": "code",
   "execution_count": 17,
   "metadata": {},
   "outputs": [
    {
     "name": "stdout",
     "output_type": "stream",
     "text": [
      "\n",
      "Example 5:\n",
      "u = [-1.0, -2.0]\n",
      "v = [-3.0, -4.0]\n",
      "u · v = 11.0\n"
     ]
    }
   ],
   "source": [
    "# Example 5: Dot product only negative values\n",
    "u = Vector([-1.0, -2.0])\n",
    "v = Vector([-3.0, -4.0])\n",
    "print('\\nExample 5:')\n",
    "print('u =', u)\n",
    "print('v =', v)\n",
    "print('u · v =', u.dot(v))  # Expected output: 11.0\n"
   ]
  }
 ],
 "metadata": {
  "kernelspec": {
   "display_name": "env",
   "language": "python",
   "name": "python3"
  },
  "language_info": {
   "codemirror_mode": {
    "name": "ipython",
    "version": 3
   },
   "file_extension": ".py",
   "mimetype": "text/x-python",
   "name": "python",
   "nbconvert_exporter": "python",
   "pygments_lexer": "ipython3",
   "version": "3.10.12"
  }
 },
 "nbformat": 4,
 "nbformat_minor": 2
}
