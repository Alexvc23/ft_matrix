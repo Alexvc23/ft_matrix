{
 "cells": [
  {
   "cell_type": "markdown",
   "metadata": {},
   "source": [
    "# Exercise 03 – Dot Product\n",
    "\n",
    "In this notebook, we demonstrate the dot product of vectors. The dot product of two vectors **u** and **v** is defined as:\n",
    "\n",
    " \\( u \\cdot v = \\sum_{i=1}^{n} u_i v_i \\) \n",
    "\n",
    "It is a fundamental operation in linear algebra used for measuring similarity, projections, and many other applications.\n",
    "\n",
    "Below, we provide examples using our custom `Vector` class."
   ]
  },
  {
   "cell_type": "code",
   "execution_count": 3,
   "metadata": {},
   "outputs": [
    {
     "name": "stdout",
     "output_type": "stream",
     "text": [
      "Example 1:\n",
      "u = [0.0, 0.0]\n",
      "v = [1.0, 1.0]\n",
      "u · v = 0.0\n",
      "\n",
      "Example 2:\n",
      "u = [1.0, 1.0]\n",
      "v = [1.0, 1.0]\n",
      "u · v = 2.0\n",
      "\n",
      "Example 3:\n",
      "u = [-1.0, 6.0]\n",
      "v = [3.0, 2.0]\n",
      "u · v = 9.0\n",
      "\n",
      "Example 4:\n",
      "u = [1.0, 2.0]\n",
      "v = [3.0, 4.0]\n",
      "u · v = 11.0\n",
      "\n",
      "Example 5:\n",
      "u = [-1.0, -2.0]\n",
      "v = [-3.0, -4.0]\n",
      "u · v = 11.0\n"
     ]
    }
   ],
   "source": [
    "from vector import Vector\n",
    "\n",
    "# Example 1: Dot product with a zero vector\n",
    "u = Vector([0.0, 0.0])\n",
    "v = Vector([1.0, 1.0])\n",
    "print('Example 1:')\n",
    "print('u =', u)\n",
    "print('v =', v)\n",
    "print('u · v =', u.dot(v))  # Expected output: 0.0\n",
    "\n",
    "# Example 2: Dot product of two identical vectors\n",
    "u = Vector([1.0, 1.0])\n",
    "v = Vector([1.0, 1.0])\n",
    "print('\\nExample 2:')\n",
    "print('u =', u)\n",
    "print('v =', v)\n",
    "print('u · v =', u.dot(v))  # Expected output: 2.0\n",
    "\n",
    "# Example 3: Dot product with negative values\n",
    "u = Vector([-1.0, 6.0])\n",
    "v = Vector([3.0, 2.0])\n",
    "print('\\nExample 3:')\n",
    "print('u =', u)\n",
    "print('v =', v)\n",
    "print('u · v =', u.dot(v))  # Expected output: 9.0\n",
    "\n",
    "# Example 4: Dot product with only positive values\n",
    "u = Vector([1.0, 2.0])\n",
    "v = Vector([3.0, 4.0])\n",
    "print('\\nExample 4:')\n",
    "print('u =', u)\n",
    "print('v =', v)\n",
    "print('u · v =', u.dot(v))  # Expected output: 11.0\n",
    "\n",
    "\n",
    "# Example 5: Dot product only negative values\n",
    "u = Vector([-1.0, -2.0])\n",
    "v = Vector([-3.0, -4.0])\n",
    "print('\\nExample 5:')\n",
    "print('u =', u)\n",
    "print('v =', v)\n",
    "print('u · v =', u.dot(v))  # Expected output: 11.0\n"
   ]
  },
  {
   "cell_type": "markdown",
   "metadata": {},
   "source": [
    "### Explanation\n",
    "\n",
    "1. **Example 1:** The dot product of the zero vector `[0.0, 0.0]` with any other vector is always 0.\n",
    "2. **Example 2:** For vectors `[1.0, 1.0]`, the dot product is `1.0*1.0 + 1.0*1.0 = 2.0`.\n",
    "3. **Example 3:** For vectors `[-1.0, 6.0]` and `[3.0, 2.0]`, the dot product is `(-1.0*3.0) + (6.0*2.0) = -3.0 + 12.0 = 9.0`.\n",
    "\n",
    "This simple operation is a cornerstone of many algorithms in linear algebra."
   ]
  }
 ],
 "metadata": {
  "kernelspec": {
   "display_name": "env",
   "language": "python",
   "name": "python3"
  },
  "language_info": {
   "codemirror_mode": {
    "name": "ipython",
    "version": 3
   },
   "file_extension": ".py",
   "mimetype": "text/x-python",
   "name": "python",
   "nbconvert_exporter": "python",
   "pygments_lexer": "ipython3",
   "version": "3.10.12"
  }
 },
 "nbformat": 4,
 "nbformat_minor": 2
}
