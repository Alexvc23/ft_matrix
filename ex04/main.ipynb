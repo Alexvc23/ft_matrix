{
 "cells": [
  {
   "cell_type": "markdown",
   "metadata": {},
   "source": [
    "# Exercise 04 – Norm\n",
    "\n",
    "## Norm (Vector Length)\n",
    "\n",
    "The norm of a vector, also called magnitude or length, measures the \"size\" of a vector. There are several types of norms, each with specific applications.\n",
    "\n",
    "### Types of Norms\n",
    "\n",
    "#### L1 Norm (Manhattan Norm)\n",
    "\n",
    "The L1 norm <span style=\"color:red\">**sums the absolute values**</span> of the vector components:\n",
    "\n",
    "$$\n",
    "||\\mathbf{v}||_1 = |v_1| + |v_2| + ... + |v_n| = \\sum_{i=1}^{n} |v_i|\n",
    "$$\n",
    "\n",
    "#### L2 Norm (Euclidean Norm)\n",
    "\n",
    "The L2 norm is the most common and represents the straight-line distance, it is calculate as:\n",
    "* <span style=\"color:red\">**The square root of the sum of the squares of the coordinates.**</span>\n",
    "\n",
    "    <details>\n",
    "    <summary><b>Click to see L2 Normalization Example</b></summary>\n",
    "    <h3>L2 Normalization Explained</h3>\n",
    "    <p>L2 normalization (also called Euclidean normalization) is a technique that scales each sample vector so that its L2 norm (Euclidean length) equals 1.</p>\n",
    "    \n",
    "    <h4>What it does</h4>\n",
    "    <p>L2 normalization transforms a vector <code>x</code> into a unit vector that points in the same direction:</p>\n",
    "    \n",
    "    <pre>x_normalized = x / ||x||₂</pre>\n",
    "    \n",
    "    <p>Where <code>||x||₂</code> is the L2-norm (Euclidean norm) calculated as:</p>\n",
    "    \n",
    "    <pre>||x||₂ = sqrt(x₁² + x₂² + ... + xₙ²)</pre>\n",
    "    \n",
    "    <h4>Key properties</h4>\n",
    "    <ol>\n",
    "    <li><strong>Preserves direction</strong>: The normalized vector points in the same direction as the original vector</li>\n",
    "    <li><strong>Unit length</strong>: All normalized vectors have a length of 1</li>\n",
    "    <li><strong>Scale invariance</strong>: Only the direction of the data matters, not its magnitude</li>\n",
    "    <li><strong>Removes magnitude differences</strong>: Helpful when features have different scales</li>\n",
    "    </ol>\n",
    "    \n",
    "    <h4>When to use it</h4>\n",
    "    <ul>\n",
    "    <li><strong>Text analysis</strong>: In TF-IDF vectors to focus on relative word importance</li>\n",
    "    <li><strong>Image processing</strong>: When comparing image features</li>\n",
    "    <li><strong>Machine learning</strong>: When you want algorithms to focus on the direction of data points rather than their magnitude</li>\n",
    "    <li><strong>Similarity measures</strong>: Particularly for cosine similarity calculations</li>\n",
    "    </ul>\n",
    "    \n",
    "    <h4>Example</h4>\n",
    "        <pre>\n",
    "            # Original vector: [4, 3]\n",
    "            # L2 norm = sqrt(4² + 3²) = sqrt(16 + 9) = sqrt(25) = 5\n",
    "            # Normalized vector = [4/5, 3/5] = [0.8, 0.6]\n",
    "        </pre>\n",
    "    <p>After normalization, all vectors will lie on the unit sphere, making them suitable for algorithms that rely on directional relationships.</p>\n",
    "    </details>\n",
    "\n",
    "$$\n",
    "||\\mathbf{v}||_2 = \\sqrt{v_1^2 + v_2^2 + ... + v_n^2} = \\sqrt{\\sum_{i=1}^{n} v_i^2}\n",
    "$$\n",
    "\n",
    "This is equivalent to $\\sqrt{\\mathbf{v} \\cdot \\mathbf{v}}$\n",
    "\n",
    "#### Infinity Norm (Max Norm)\n",
    "\n",
    "The infinity norm takes the <span style=\"color:red\">**largest absolute value**</span> among components:\n",
    "\n",
    "$$\n",
    "||\\mathbf{v}||_{\\infty} = \\max(|v_1|, |v_2|, ..., |v_n|)\n",
    "$$\n",
    "\n",
    "Below are some examples."
   ]
  },
  {
   "cell_type": "markdown",
   "metadata": {},
   "source": [
    "\n",
    "- **Zero vector**: For `[0.0, 0.0, 0.0]`, all norms are 0."
   ]
  },
  {
   "cell_type": "code",
   "execution_count": 2,
   "metadata": {},
   "outputs": [
    {
     "name": "stdout",
     "output_type": "stream",
     "text": [
      "Vector: [0.0, 0.0, 0.0]\n",
      "1-norm: 0.0\n",
      "2-norm: 0.0\n",
      "Infinity norm: 0.0\n"
     ]
    }
   ],
   "source": [
    "\n",
    "import sys\n",
    "# This is the path to the directory where your modules are located in the container\n",
    "# in this case, it is the directory where the vector.py and matrix.py files are located\n",
    "# the kernel used here is the one used in the container which is a jupyter kernel\n",
    "sys.path.append('/home/cliuser/downloads/ft_matrix/ex04')\n",
    "\n",
    "from vector import Vector\n",
    "\n",
    "# Example 1: Zero vector\n",
    "v1 = Vector.from_list([0.0, 0.0, 0.0])\n",
    "print('Vector:', v1)\n",
    "print('1-norm:', v1.norm_1())\n",
    "print('2-norm:', v1.norm())\n",
    "print('Infinity norm:', v1.norm_inf())"
   ]
  },
  {
   "cell_type": "markdown",
   "metadata": {},
   "source": [
    "\n",
    "- **Positive vector**: For `[1.0, 2.0, 3.0]`:\n",
    "  - 1-norm: $1 + 2 + 3 = 6.0$\n",
    "  - 2-norm: $\\sqrt{1^2 + 2^2 + 3^2} = \\sqrt{14} \\approx 3.74165738$\n",
    "  - Infinity norm: $\\max(1, 2, 3) = 3.0$"
   ]
  },
  {
   "cell_type": "code",
   "execution_count": 2,
   "metadata": {},
   "outputs": [
    {
     "name": "stdout",
     "output_type": "stream",
     "text": [
      "\n",
      "Vector: [1.0, 2.0, 3.0]\n",
      "1-norm: 6.0\n",
      "2-norm: 3.7416573867739413\n",
      "Infinity norm: 3.0\n"
     ]
    }
   ],
   "source": [
    "# Example 2: Positive vector\n",
    "v2 = Vector.from_list([1.0, 2.0, 3.0])\n",
    "print('\\nVector:', v2)\n",
    "print('1-norm:', v2.norm_1())  # 1.0+2.0+3.0 = 6.0\n",
    "print('2-norm:', v2.norm())    # sqrt(1+4+9) ≈ 3.74165738\n",
    "print('Infinity norm:', v2.norm_inf())  # max(1,2,3) = 3.0\n"
   ]
  },
  {
   "cell_type": "markdown",
   "metadata": {},
   "source": [
    "\n",
    "- **Negative vector**: For `[-1.0, -2.0]`:\n",
    "  - 1-norm: $1 + 2 = 3.0$\n",
    "  - 2-norm: $\\sqrt{(-1)^2 + (-2)^2} = \\sqrt{1+4} = \\sqrt{5} \\approx 2.236067977$\n",
    "  - Infinity norm: $\\max(1, 2) = 2.0$"
   ]
  },
  {
   "cell_type": "code",
   "execution_count": 3,
   "metadata": {},
   "outputs": [
    {
     "name": "stdout",
     "output_type": "stream",
     "text": [
      "\n",
      "Vector: [-1.0, -2.0]\n",
      "1-norm: 3.0\n",
      "2-norm: 2.23606797749979\n",
      "Infinity norm: 2.0\n"
     ]
    }
   ],
   "source": [
    "# Example 3: Negative vector\n",
    "v3 = Vector.from_list([-1.0, -2.0])\n",
    "print('\\nVector:', v3)\n",
    "print('1-norm:', v3.norm_1())  # 1.0+2.0 = 3.0\n",
    "print('2-norm:', v3.norm())    # sqrt(1+4) ≈ 2.236067977\n",
    "print('Infinity norm:', v3.norm_inf())  # max(1,2) = 2.0"
   ]
  }
 ],
 "metadata": {
  "kernelspec": {
   "display_name": "Python 3 (ipykernel)",
   "language": "python",
   "name": "python3"
  },
  "language_info": {
   "codemirror_mode": {
    "name": "ipython",
    "version": 3
   },
   "file_extension": ".py",
   "mimetype": "text/x-python",
   "name": "python",
   "nbconvert_exporter": "python",
   "pygments_lexer": "ipython3",
   "version": "3.10.12"
  }
 },
 "nbformat": 4,
 "nbformat_minor": 4
}
