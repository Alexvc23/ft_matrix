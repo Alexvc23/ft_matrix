{
 "cells": [
  {
   "cell_type": "markdown",
   "metadata": {},
   "source": [
    "# Exercise 04 – Norm\n",
    "\n",
    "## Norm (Vector Length)\n",
    "\n",
    "The norm of a vector, also called magnitude or length, measures the \"size\" of a vector. There are several types of norms, each with specific applications.\n",
    "\n",
    "### Types of Norms\n",
    "\n",
    "#### L1 Norm (Manhattan Norm)\n",
    "\n",
    "The L1 norm <span style=\"color:red\">**sums the absolute values**</span> of the vector components:\n",
    "\n",
    "$$\n",
    "||\\mathbf{v}||_1 = |v_1| + |v_2| + ... + |v_n| = \\sum_{i=1}^{n} |v_i|\n",
    "$$\n",
    "\n",
    "#### L2 Norm (Euclidean Norm)\n",
    "\n",
    "The L2 norm is the most common and represents the straight-line distance, it is calculate as:\n",
    "* <span style=\"color:red\">**The square root of the sum of the squares of the coordinates.**</span>\n",
    "\n",
    "$$\n",
    "||\\mathbf{v}||_2 = \\sqrt{v_1^2 + v_2^2 + ... + v_n^2} = \\sqrt{\\sum_{i=1}^{n} v_i^2}\n",
    "$$\n",
    "\n",
    "This is equivalent to $\\sqrt{\\mathbf{v} \\cdot \\mathbf{v}}$\n",
    "\n",
    "#### Infinity Norm (Max Norm)\n",
    "\n",
    "The infinity norm takes the <span style=\"color:red\">**largest absolute value**</span> among components:\n",
    "\n",
    "$$\n",
    "||\\mathbf{v}||_{\\infty} = \\max(|v_1|, |v_2|, ..., |v_n|)\n",
    "$$\n",
    "\n",
    "Below are some examples."
   ]
  },
  {
   "cell_type": "markdown",
   "metadata": {},
   "source": [
    "\n",
    "- **Zero vector**: For `[0.0, 0.0, 0.0]`, all norms are 0."
   ]
  },
  {
   "cell_type": "code",
   "execution_count": 1,
   "metadata": {},
   "outputs": [
    {
     "name": "stdout",
     "output_type": "stream",
     "text": [
      "Vector: [0.0, 0.0, 0.0]\n",
      "1-norm: 0.0\n",
      "2-norm: 0.0\n",
      "Infinity norm: 0.0\n"
     ]
    }
   ],
   "source": [
    "from vector import Vector\n",
    "\n",
    "# Example 1: Zero vector\n",
    "v1 = Vector.from_list([0.0, 0.0, 0.0])\n",
    "print('Vector:', v1)\n",
    "print('1-norm:', v1.norm_1())\n",
    "print('2-norm:', v1.norm())\n",
    "print('Infinity norm:', v1.norm_inf())"
   ]
  },
  {
   "cell_type": "markdown",
   "metadata": {},
   "source": [
    "\n",
    "- **Positive vector**: For `[1.0, 2.0, 3.0]`:\n",
    "  - 1-norm: $1 + 2 + 3 = 6.0$\n",
    "  - 2-norm: $\\sqrt{1^2 + 2^2 + 3^2} = \\sqrt{14} \\approx 3.74165738$\n",
    "  - Infinity norm: $\\max(1, 2, 3) = 3.0$"
   ]
  },
  {
   "cell_type": "code",
   "execution_count": 2,
   "metadata": {},
   "outputs": [
    {
     "name": "stdout",
     "output_type": "stream",
     "text": [
      "\n",
      "Vector: [1.0, 2.0, 3.0]\n",
      "1-norm: 6.0\n",
      "2-norm: 3.7416573867739413\n",
      "Infinity norm: 3.0\n"
     ]
    }
   ],
   "source": [
    "# Example 2: Positive vector\n",
    "v2 = Vector.from_list([1.0, 2.0, 3.0])\n",
    "print('\\nVector:', v2)\n",
    "print('1-norm:', v2.norm_1())  # 1.0+2.0+3.0 = 6.0\n",
    "print('2-norm:', v2.norm())    # sqrt(1+4+9) ≈ 3.74165738\n",
    "print('Infinity norm:', v2.norm_inf())  # max(1,2,3) = 3.0\n"
   ]
  },
  {
   "cell_type": "markdown",
   "metadata": {},
   "source": [
    "\n",
    "- **Negative vector**: For `[-1.0, -2.0]`:\n",
    "  - 1-norm: $1 + 2 = 3.0$\n",
    "  - 2-norm: $\\sqrt{(-1)^2 + (-2)^2} = \\sqrt{1+4} = \\sqrt{5} \\approx 2.236067977$\n",
    "  - Infinity norm: $\\max(1, 2) = 2.0$"
   ]
  },
  {
   "cell_type": "code",
   "execution_count": 3,
   "metadata": {},
   "outputs": [
    {
     "name": "stdout",
     "output_type": "stream",
     "text": [
      "\n",
      "Vector: [-1.0, -2.0]\n",
      "1-norm: 3.0\n",
      "2-norm: 2.23606797749979\n",
      "Infinity norm: 2.0\n"
     ]
    }
   ],
   "source": [
    "# Example 3: Negative vector\n",
    "v3 = Vector.from_list([-1.0, -2.0])\n",
    "print('\\nVector:', v3)\n",
    "print('1-norm:', v3.norm_1())  # 1.0+2.0 = 3.0\n",
    "print('2-norm:', v3.norm())    # sqrt(1+4) ≈ 2.236067977\n",
    "print('Infinity norm:', v3.norm_inf())  # max(1,2) = 2.0"
   ]
  }
 ],
 "metadata": {
  "kernelspec": {
   "display_name": "env",
   "language": "python",
   "name": "python3"
  },
  "language_info": {
   "codemirror_mode": {
    "name": "ipython",
    "version": 3
   },
   "file_extension": ".py",
   "mimetype": "text/x-python",
   "name": "python",
   "nbconvert_exporter": "python",
   "pygments_lexer": "ipython3",
   "version": "3.10.12"
  }
 },
 "nbformat": 4,
 "nbformat_minor": 4
}
