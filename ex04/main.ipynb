{
 "cells": [
  {
   "cell_type": "markdown",
   "metadata": {},
   "source": [
    "# Exercise 04 – Norm\n",
    "\n",
    "This notebook demonstrates the computation of various norms for vectors using our custom `Vector` class. \n",
    "\n",
    "We implement the following norms:\n",
    "\n",
    "- **1-norm (Manhattan norm)**: $\\|v\\|_1 = \\sum_{i=1}^{n} |v_i|$\n",
    "- **2-norm (Euclidean norm)**: $\\|v\\|_2 = \\sqrt{\\sum_{i=1}^{n} v_i^2}$\n",
    "- **Infinity norm**: $\\|v\\|_{\\infty} = \\max_{1 \\leq i \\leq n} |v_i|$\n",
    "\n",
    "Below are some examples."
   ]
  },
  {
   "cell_type": "code",
   "execution_count": null,
   "metadata": {},
   "outputs": [],
   "source": [
    "from vector import Vector\n",
    "\n",
    "# Example 1: Zero vector\n",
    "v1 = Vector.from_list([0.0, 0.0, 0.0])\n",
    "print('Vector:', v1)\n",
    "print('1-norm:', v1.norm_1())\n",
    "print('2-norm:', v1.norm())\n",
    "print('Infinity norm:', v1.norm_inf())\n",
    "\n",
    "# Example 2: Positive vector\n",
    "v2 = Vector.from_list([1.0, 2.0, 3.0])\n",
    "print('\\nVector:', v2)\n",
    "print('1-norm:', v2.norm_1())  # 1.0+2.0+3.0 = 6.0\n",
    "print('2-norm:', v2.norm())    # sqrt(1+4+9) ≈ 3.74165738\n",
    "print('Infinity norm:', v2.norm_inf())  # max(1,2,3) = 3.0\n",
    "\n",
    "# Example 3: Negative vector\n",
    "v3 = Vector.from_list([-1.0, -2.0])\n",
    "print('\\nVector:', v3)\n",
    "print('1-norm:', v3.norm_1())  # 1.0+2.0 = 3.0\n",
    "print('2-norm:', v3.norm())    # sqrt(1+4) ≈ 2.236067977\n",
    "print('Infinity norm:', v3.norm_inf())  # max(1,2) = 2.0"
   ]
  },
  {
   "cell_type": "markdown",
   "metadata": {},
   "source": [
    "### Explanation\n",
    "\n",
    "- **Zero vector**: For `[0.0, 0.0, 0.0]`, all norms are 0.\n",
    "- **Positive vector**: For `[1.0, 2.0, 3.0]`:\n",
    "  - 1-norm: $1 + 2 + 3 = 6.0$\n",
    "  - 2-norm: $\\sqrt{1^2 + 2^2 + 3^2} = \\sqrt{14} \\approx 3.74165738$\n",
    "  - Infinity norm: $\\max(1, 2, 3) = 3.0$\n",
    "- **Negative vector**: For `[-1.0, -2.0]`:\n",
    "  - 1-norm: $1 + 2 = 3.0$\n",
    "  - 2-norm: $\\sqrt{(-1)^2 + (-2)^2} = \\sqrt{1+4} = \\sqrt{5} \\approx 2.236067977$\n",
    "  - Infinity norm: $\\max(1, 2) = 2.0$\n",
    "\n",
    "These norms provide different measures of vector magnitude useful in various applications such as optimization, geometry, and error estimation."
   ]
  }
 ],
 "metadata": {
  "kernelspec": {
   "display_name": "Python 3",
   "language": "python",
   "name": "python3"
  },
  "language_info": {
   "name": "python",
   "version": "3.x"
  }
 },
 "nbformat": 4,
 "nbformat_minor": 4
}
